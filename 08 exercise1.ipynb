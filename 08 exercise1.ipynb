{
 "cells": [
  {
   "cell_type": "markdown",
   "metadata": {},
   "source": [
    "## Linear Regression Model\n"
   ]
  },
  {
   "cell_type": "markdown",
   "metadata": {},
   "source": [
    "### Data load"
   ]
  },
  {
   "cell_type": "code",
   "execution_count": 1,
   "metadata": {},
   "outputs": [
    {
     "data": {
      "image/png": "[encoded data removed]",
      "text/plain": [
       "<Figure size 432x288 with 1 Axes>"
      ]
     },
     "metadata": {
      "needs_background": "light"
     },
     "output_type": "display_data"
    }
   ],
   "source": [
    "import torch\n",
    "import matplotlib.pyplot as plt\n",
    "\n",
    "X = torch.randn(200, 1) * 10\n",
    "y = X + 3 + torch.randn(200, 1)\n",
    "plt.scatter(X.numpy(), y.numpy())\n",
    "plt.xlabel('X')\n",
    "plt.ylabel('y')\n",
    "plt.grid()\n",
    "plt.show()\n"
   ]
  },
  {
   "cell_type": "markdown",
   "metadata": {},
   "source": [
    "### Define model"
   ]
  },
  {
   "cell_type": "code",
   "execution_count": 2,
   "metadata": {},
   "outputs": [],
   "source": [
    "import torch.nn as nn\n",
    "\n",
    "class LR(nn.Module):\n",
    "    def __init__(self):\n",
    "        super(LR, self).__init__()\n",
    "        self.linear = nn.Linear(1, 1)\n",
    "\n",
    "    def forward(self, x):\n",
    "        pred = self.linear(x)\n",
    "        return pred"
   ]
  },
  {
   "cell_type": "code",
   "execution_count": 3,
   "metadata": {},
   "outputs": [
    {
     "name": "stdout",
     "output_type": "stream",
     "text": [
      "LR(\n",
      "  (linear): Linear(in_features=1, out_features=1, bias=True)\n",
      ")\n",
      "[Parameter containing:\n",
      "tensor([[0.2847]], requires_grad=True), Parameter containing:\n",
      "tensor([-0.7186], requires_grad=True)]\n"
     ]
    }
   ],
   "source": [
    "model = LR()\n",
    "print(model)\n",
    "print(list(model.parameters()))"
   ]
  },
  {
   "cell_type": "code",
   "execution_count": 4,
   "metadata": {},
   "outputs": [
    {
     "data": {
      "image/png": "[encoded data removed]",
      "text/plain": [
       "<Figure size 432x288 with 1 Axes>"
      ]
     },
     "metadata": {
      "needs_background": "light"
     },
     "output_type": "display_data"
    }
   ],
   "source": [
    "import numpy as np\n",
    "\n",
    "w, b = model.parameters()\n",
    "\n",
    "w1, b1 = w[0][0].item(), b[0].item()\n",
    "\n",
    "x1 = np.array([-30, 30])\n",
    "y1 = w1 * x1 + b1\n",
    "\n",
    "# 실제 데이터와 현재 inital weight의 예측\n",
    "plt.plot(x1, y1, 'r')\n",
    "plt.scatter(X, y)\n",
    "plt.grid()\n",
    "plt.show()"
   ]
  },
  {
   "cell_type": "markdown",
   "metadata": {},
   "source": [
    "### Loss function & Optimizer"
   ]
  },
  {
   "cell_type": "code",
   "execution_count": 5,
   "metadata": {},
   "outputs": [],
   "source": [
    "import torch.optim as optim\n",
    "\n",
    "criterion = nn.MSELoss()\n",
    "optimizer = optim.SGD(model.parameters(), lr=0.001)"
   ]
  },
  {
   "cell_type": "markdown",
   "metadata": {},
   "source": [
    "### Model Train"
   ]
  },
  {
   "cell_type": "code",
   "execution_count": 6,
   "metadata": {},
   "outputs": [
    {
     "name": "stdout",
     "output_type": "stream",
     "text": [
      "tensor(73.9387, grad_fn=<MseLossBackward>)\n",
      "tensor(51.7344, grad_fn=<MseLossBackward>)\n",
      "tensor(37.7911, grad_fn=<MseLossBackward>)\n",
      "tensor(29.0281, grad_fn=<MseLossBackward>)\n",
      "tensor(23.5136, grad_fn=<MseLossBackward>)\n",
      "tensor(20.0362, grad_fn=<MseLossBackward>)\n",
      "tensor(17.8362, grad_fn=<MseLossBackward>)\n",
      "tensor(16.4374, grad_fn=<MseLossBackward>)\n",
      "tensor(15.5410, grad_fn=<MseLossBackward>)\n",
      "tensor(14.9597, grad_fn=<MseLossBackward>)\n",
      "tensor(14.5761, grad_fn=<MseLossBackward>)\n",
      "tensor(14.3166, grad_fn=<MseLossBackward>)\n",
      "tensor(14.1349, grad_fn=<MseLossBackward>)\n",
      "tensor(14.0021, grad_fn=<MseLossBackward>)\n",
      "tensor(13.9000, grad_fn=<MseLossBackward>)\n",
      "tensor(13.8173, grad_fn=<MseLossBackward>)\n",
      "tensor(13.7468, grad_fn=<MseLossBackward>)\n",
      "tensor(13.6840, grad_fn=<MseLossBackward>)\n",
      "tensor(13.6261, grad_fn=<MseLossBackward>)\n",
      "tensor(13.5714, grad_fn=<MseLossBackward>)\n",
      "tensor(13.5188, grad_fn=<MseLossBackward>)\n",
      "tensor(13.4675, grad_fn=<MseLossBackward>)\n",
      "tensor(13.4171, grad_fn=<MseLossBackward>)\n",
      "tensor(13.3674, grad_fn=<MseLossBackward>)\n",
      "tensor(13.3182, grad_fn=<MseLossBackward>)\n",
      "tensor(13.2693, grad_fn=<MseLossBackward>)\n",
      "tensor(13.2208, grad_fn=<MseLossBackward>)\n",
      "tensor(13.1725, grad_fn=<MseLossBackward>)\n",
      "tensor(13.1244, grad_fn=<MseLossBackward>)\n",
      "tensor(13.0766, grad_fn=<MseLossBackward>)\n",
      "tensor(13.0290, grad_fn=<MseLossBackward>)\n",
      "tensor(12.9815, grad_fn=<MseLossBackward>)\n",
      "tensor(12.9343, grad_fn=<MseLossBackward>)\n",
      "tensor(12.8873, grad_fn=<MseLossBackward>)\n",
      "tensor(12.8404, grad_fn=<MseLossBackward>)\n",
      "tensor(12.7937, grad_fn=<MseLossBackward>)\n",
      "tensor(12.7473, grad_fn=<MseLossBackward>)\n",
      "tensor(12.7010, grad_fn=<MseLossBackward>)\n",
      "tensor(12.6548, grad_fn=<MseLossBackward>)\n",
      "tensor(12.6089, grad_fn=<MseLossBackward>)\n",
      "tensor(12.5632, grad_fn=<MseLossBackward>)\n",
      "tensor(12.5176, grad_fn=<MseLossBackward>)\n",
      "tensor(12.4722, grad_fn=<MseLossBackward>)\n",
      "tensor(12.4270, grad_fn=<MseLossBackward>)\n",
      "tensor(12.3820, grad_fn=<MseLossBackward>)\n",
      "tensor(12.3371, grad_fn=<MseLossBackward>)\n",
      "tensor(12.2925, grad_fn=<MseLossBackward>)\n",
      "tensor(12.2480, grad_fn=<MseLossBackward>)\n",
      "tensor(12.2036, grad_fn=<MseLossBackward>)\n",
      "tensor(12.1595, grad_fn=<MseLossBackward>)\n",
      "tensor(12.1155, grad_fn=<MseLossBackward>)\n",
      "tensor(12.0717, grad_fn=<MseLossBackward>)\n",
      "tensor(12.0281, grad_fn=<MseLossBackward>)\n",
      "tensor(11.9847, grad_fn=<MseLossBackward>)\n",
      "tensor(11.9414, grad_fn=<MseLossBackward>)\n",
      "tensor(11.8983, grad_fn=<MseLossBackward>)\n",
      "tensor(11.8554, grad_fn=<MseLossBackward>)\n",
      "tensor(11.8126, grad_fn=<MseLossBackward>)\n",
      "tensor(11.7700, grad_fn=<MseLossBackward>)\n",
      "tensor(11.7276, grad_fn=<MseLossBackward>)\n",
      "tensor(11.6853, grad_fn=<MseLossBackward>)\n",
      "tensor(11.6432, grad_fn=<MseLossBackward>)\n",
      "tensor(11.6013, grad_fn=<MseLossBackward>)\n",
      "tensor(11.5595, grad_fn=<MseLossBackward>)\n",
      "tensor(11.5179, grad_fn=<MseLossBackward>)\n",
      "tensor(11.4765, grad_fn=<MseLossBackward>)\n",
      "tensor(11.4352, grad_fn=<MseLossBackward>)\n",
      "tensor(11.3941, grad_fn=<MseLossBackward>)\n",
      "tensor(11.3532, grad_fn=<MseLossBackward>)\n",
      "tensor(11.3124, grad_fn=<MseLossBackward>)\n",
      "tensor(11.2718, grad_fn=<MseLossBackward>)\n",
      "tensor(11.2314, grad_fn=<MseLossBackward>)\n",
      "tensor(11.1911, grad_fn=<MseLossBackward>)\n",
      "tensor(11.1509, grad_fn=<MseLossBackward>)\n",
      "tensor(11.1110, grad_fn=<MseLossBackward>)\n",
      "tensor(11.0712, grad_fn=<MseLossBackward>)\n",
      "tensor(11.0315, grad_fn=<MseLossBackward>)\n",
      "tensor(10.9920, grad_fn=<MseLossBackward>)\n",
      "tensor(10.9527, grad_fn=<MseLossBackward>)\n",
      "tensor(10.9135, grad_fn=<MseLossBackward>)\n",
      "tensor(10.8744, grad_fn=<MseLossBackward>)\n",
      "tensor(10.8356, grad_fn=<MseLossBackward>)\n",
      "tensor(10.7968, grad_fn=<MseLossBackward>)\n",
      "tensor(10.7583, grad_fn=<MseLossBackward>)\n",
      "tensor(10.7198, grad_fn=<MseLossBackward>)\n",
      "tensor(10.6816, grad_fn=<MseLossBackward>)\n",
      "tensor(10.6435, grad_fn=<MseLossBackward>)\n",
      "tensor(10.6055, grad_fn=<MseLossBackward>)\n",
      "tensor(10.5677, grad_fn=<MseLossBackward>)\n",
      "tensor(10.5300, grad_fn=<MseLossBackward>)\n",
      "tensor(10.4925, grad_fn=<MseLossBackward>)\n",
      "tensor(10.4551, grad_fn=<MseLossBackward>)\n",
      "tensor(10.4179, grad_fn=<MseLossBackward>)\n",
      "tensor(10.3808, grad_fn=<MseLossBackward>)\n",
      "tensor(10.3439, grad_fn=<MseLossBackward>)\n",
      "tensor(10.3071, grad_fn=<MseLossBackward>)\n",
      "tensor(10.2705, grad_fn=<MseLossBackward>)\n",
      "tensor(10.2340, grad_fn=<MseLossBackward>)\n",
      "tensor(10.1977, grad_fn=<MseLossBackward>)\n",
      "tensor(10.1615, grad_fn=<MseLossBackward>)\n"
     ]
    }
   ],
   "source": [
    "epochs = 100\n",
    "losses = []\n",
    "\n",
    "for epoch in range(epochs):\n",
    "    optimizer.zero_grad()\n",
    "\n",
    "    y_pred = model(X)\n",
    "    loss = criterion(y_pred, y)\n",
    "    print(loss)\n",
    "    losses.append(loss.item())\n",
    "\n",
    "    loss.backward()\n",
    "    optimizer.step()"
   ]
  },
  {
   "cell_type": "code",
   "execution_count": 8,
   "metadata": {},
   "outputs": [
    {
     "data": {
      "image/png": "[encoded data removed]",
      "text/plain": [
       "<Figure size 432x288 with 1 Axes>"
      ]
     },
     "metadata": {
      "needs_background": "light"
     },
     "output_type": "display_data"
    }
   ],
   "source": [
    "plt.plot(range(epochs), losses)\n",
    "plt.ylabel('Loss')\n",
    "plt.xlabel('Epoch')\n",
    "plt.show()"
   ]
  },
  {
   "cell_type": "code",
   "execution_count": 9,
   "metadata": {},
   "outputs": [
    {
     "data": {
      "image/png": "[encoded data removed]",
      "text/plain": [
       "<Figure size 432x288 with 1 Axes>"
      ]
     },
     "metadata": {
      "needs_background": "light"
     },
     "output_type": "display_data"
    }
   ],
   "source": [
    "w1, b1 = w[0][0].item(), b[0].item()\n",
    "\n",
    "x1 = np.array([-30, 30])\n",
    "y1 = w1 * x1 + b1\n",
    "\n",
    "# 실제 데이터와 학습 후의 weight의 예측\n",
    "plt.plot(x1, y1, 'r')\n",
    "plt.scatter(X, y)\n",
    "plt.grid()\n",
    "plt.show()"
   ]
  }
 ],
 "metadata": {
  "kernelspec": {
   "display_name": "Python 3.7.13 ('torch1.7.1')",
   "language": "python",
   "name": "python3"
  },
  "language_info": {
   "codemirror_mode": {
    "name": "ipython",
    "version": 3
   },
   "file_extension": ".py",
   "mimetype": "text/x-python",
   "name": "python",
   "nbconvert_exporter": "python",
   "pygments_lexer": "ipython3",
   "version": "3.7.13"
  },
  "orig_nbformat": 4,
  "vscode": {
   "interpreter": {
    "hash": "b4a84903a2b3fdb7d367cfd9ea570be165ad361672f95a63c30b0740103c512e"
   }
  }
 },
 "nbformat": 4,
 "nbformat_minor": 2
}
