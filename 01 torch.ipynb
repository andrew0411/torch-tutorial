{
 "cells": [
  {
   "cell_type": "markdown",
   "metadata": {},
   "source": [
    "## Pytorch\n",
    "- 페이스북이 초기 Lua 언어로 개발된 Torch를 파이썬 버전으로 개발하여 2017년도에 공개\n",
    "- 초기의 Torch는 Numpy 라이브러리처럼 과학 연산을 위한 라이브러리로 공개\n",
    "- 이후 GPU를 이용한 텐서 조작 및 동적 신경망 구축이 가능하도록 딥러닝 프레임워크로 발전시킴\n",
    "- 파이썬답게 만들어졌고, 유연하면서도 가속화된 계산 속도를 제공"
   ]
  },
  {
   "cell_type": "markdown",
   "metadata": {},
   "source": [
    "## 파이토치 모듈 구조\n",
    "- Low level Library : CUDA, C / 하드웨어 접근이 용이하고 빠른 저수준의 언어로 작성이 되어서 병렬처리가 가능한 고속으로 GPU 연산이 가능하도록 구성\n",
    "- Middle level Engine : C++ / Autograd, ATen, JIT 등의 중간 단계의 엔진\n",
    "- Top level API : python API로 전체를 아울러서 사용할 수 있게 모듈화 (torch, torch.autograd, torch.nn, torch.multiprocessing, torch.utils 등)"
   ]
  },
  {
   "cell_type": "markdown",
   "metadata": {},
   "source": [
    "## 파이토치의 구성요소\n",
    "- torch: 메인 네임스페이스, 텐서 등의 다양한 수학 함수가 포함\n",
    "- torch.autograd : 자동 미분 기능을 제공하는 라이브러리\n",
    "- torch.nn : 신경망 구축을 위한 데이터 구조나 레이어 등의 라이브러리\n",
    "- torch.multiprocessing : 병렬처리 기능을 제공하는 라이브러리\n",
    "- torch.optim : SGD(Stochastic Gradient Descent)를 중심으로 한 파라미터 최적화 알고리즘 제공\n",
    "- torch.utils : 데이터 조작 등의 유틸리티 기능 제공\n",
    "- torch.onnx : ONNX(Open Neural Network Exchange), 서로 다른 프레임워크 간의 모델을 공유할 때 사용"
   ]
  },
  {
   "cell_type": "markdown",
   "metadata": {},
   "source": [
    "## 텐서(Tensors)\n",
    "- 데이터 표현을 위한 기본 구조로 텐서(tensor)를 사용\n",
    "- 텐서는 데이터를 담기위한 컨테이너(container)로서 일반적으로 수치형 데이터를 저장\n",
    "- Numpy의 ndarray와 유사\n",
    "- GPU를 사용한 연산 가속 가능"
   ]
  },
  {
   "cell_type": "code",
   "execution_count": null,
   "metadata": {},
   "outputs": [],
   "source": []
  }
 ],
 "metadata": {
  "language_info": {
   "name": "python"
  },
  "orig_nbformat": 4
 },
 "nbformat": 4,
 "nbformat_minor": 2
}
