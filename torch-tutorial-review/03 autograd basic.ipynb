{
 "cells": [
  {
   "cell_type": "markdown",
   "metadata": {},
   "source": [
    "### Autograd 사용\n",
    "- 어떤 tensor가 학습에 필요한 tensor라면 `backpropagation`을 통해 gradient를 구해야 함\n",
    "\n",
    "- `tensor`의 gradient를 구하기 위한 조건\n",
    "\n",
    "    - `requires_grad = True` 로 설정되어 있어야함, default는 False\n",
    "    \n",
    "    - `backpropagation`을 시작하는 지점의 output은 `scalar` 형태   \n",
    "    \n",
    "- `tensor`의 gradient를 계산하기 위해서는 output 지점의 tensor에서 `.backward()` 함수를 호출하면 됨\n",
    "\n",
    "- gradient 값을 확인하려면 `requires_grad=True`로 생성한 tensor에 `.grad` 를 통해 확인할 수 있음"
   ]
  },
  {
   "cell_type": "markdown",
   "metadata": {},
   "source": [
    "### Autograd 개념"
   ]
  },
  {
   "cell_type": "markdown",
   "metadata": {},
   "source": [
    "`x`는 2 x 2 크기의 1로 구성된 tensor를 생성한 것이고\n",
    "\n",
    "`y`는 `requires_grad=True`로 설정하여 역전파 과정을 수행할 수 있게 됨"
   ]
  },
  {
   "cell_type": "code",
   "execution_count": 1,
   "metadata": {},
   "outputs": [
    {
     "name": "stdout",
     "output_type": "stream",
     "text": [
      "tensor([[1., 1.],\n",
      "        [1., 1.]])\n",
      "tensor([[1., 1.],\n",
      "        [1., 1.]], requires_grad=True)\n"
     ]
    }
   ],
   "source": [
    "import torch\n",
    "\n",
    "x = torch.ones(2, 2)\n",
    "print(x)\n",
    "\n",
    "y = torch.ones(2, 2, requires_grad=True)\n",
    "print(y)"
   ]
  },
  {
   "cell_type": "markdown",
   "metadata": {},
   "source": [
    "앞서 생성한 tensor에 `+3`이라는 연산을 수행했음\n",
    "\n",
    "연산을 수행한 `y`에 `grad_fn`이 `<AddBackward0>`를 담고 있음\n",
    "\n",
    "`grad_fn`은 해당 텐서가 어떤 연산을 수행했는지와 관련된 정보를 가지고 있고, 이 정보를 추후에 역전파에 사용함"
   ]
  },
  {
   "cell_type": "code",
   "execution_count": 2,
   "metadata": {},
   "outputs": [
    {
     "name": "stdout",
     "output_type": "stream",
     "text": [
      "x = tensor([[1., 1.],\n",
      "        [1., 1.]])\n",
      "x1 = tensor([[4., 4.],\n",
      "        [4., 4.]])\n",
      "y = tensor([[1., 1.],\n",
      "        [1., 1.]], requires_grad=True)\n",
      "y1 = tensor([[4., 4.],\n",
      "        [4., 4.]], grad_fn=<AddBackward0>)\n"
     ]
    }
   ],
   "source": [
    "print(f'x = {x}')\n",
    "\n",
    "x1 = x + 3\n",
    "print(f'x1 = {x1}')\n",
    "\n",
    "print(f'y = {y}')\n",
    "\n",
    "y1 = y + 3\n",
    "print(f'y1 = {y1}')"
   ]
  },
  {
   "cell_type": "markdown",
   "metadata": {},
   "source": [
    "사칙연산을 수행한 후에 역전파에 활용할 정보를 저장하는 `grad_fn`을 보면 각각\n",
    "\n",
    "`AddBackward0`, `SubBackward0`, `MulBackward0`, `DivBackward0` 등이 저장되어 있음"
   ]
  },
  {
   "cell_type": "code",
   "execution_count": 6,
   "metadata": {},
   "outputs": [
    {
     "name": "stdout",
     "output_type": "stream",
     "text": [
      "x = tensor([[1., 1.],\n",
      "        [1., 1.]], requires_grad=True)\n",
      "x1 = tensor([[3., 3.],\n",
      "        [3., 3.]], grad_fn=<AddBackward0>)\n",
      "x2 = tensor([[-3., -3.],\n",
      "        [-3., -3.]], grad_fn=<SubBackward0>)\n",
      "x3 = tensor([[1.2000, 1.2000],\n",
      "        [1.2000, 1.2000]], grad_fn=<MulBackward0>)\n",
      "x4 = tensor([[2., 2.],\n",
      "        [2., 2.]], grad_fn=<DivBackward0>)\n"
     ]
    }
   ],
   "source": [
    "x = torch.ones(2, 2, requires_grad=True)\n",
    "print(f'x = {x}')\n",
    "x1 = x + 2\n",
    "print(f'x1 = {x1}')\n",
    "x2 = x - 4\n",
    "print(f'x2 = {x2}')\n",
    "x3 = x * 1.2\n",
    "print(f'x3 = {x3}')\n",
    "x4 = x / 0.5\n",
    "print(f'x4 = {x4}')"
   ]
  },
  {
   "cell_type": "markdown",
   "metadata": {},
   "source": [
    "원래 `reqiures_grad=False`로 default가 되어있는 tensor에 속성을 추가할 때는\n",
    "\n",
    "`x.requires_grad_(True)` 로 앞으로는 연산 정보를 저장하게 설정해줄 수 있음\n",
    "\n",
    "하지만, 그 전에 x가 거쳐왔던 연산들은 저장을 하고 있지 않았기 때문에\n",
    "\n",
    "그 전의 연산들은 없는 상태로 인식됨"
   ]
  },
  {
   "cell_type": "code",
   "execution_count": 7,
   "metadata": {},
   "outputs": [
    {
     "name": "stdout",
     "output_type": "stream",
     "text": [
      "x = tensor([[1., 1.],\n",
      "        [1., 1.]])\n",
      "x1 = tensor([[4., 4.],\n",
      "        [4., 4.]])\n",
      "x2 = tensor([[2., 2.],\n",
      "        [2., 2.]])\n",
      "x1 = tensor([[4., 4.],\n",
      "        [4., 4.]], requires_grad=True)\n",
      "x2 = tensor([[2., 2.],\n",
      "        [2., 2.]], requires_grad=True)\n"
     ]
    }
   ],
   "source": [
    "x = torch.ones(2, 2)\n",
    "x1 = x + 3\n",
    "x2 = x1 * 0.5\n",
    "\n",
    "print(f'x = {x}')\n",
    "print(f'x1 = {x1}')\n",
    "print(f'x2 = {x2}')\n",
    "\n",
    "x1.requires_grad_(True)\n",
    "x2.requires_grad_(True)\n",
    "\n",
    "print(f'x1 = {x1}')\n",
    "print(f'x2 = {x2}')"
   ]
  },
  {
   "cell_type": "markdown",
   "metadata": {},
   "source": [
    "#### Derivative"
   ]
  },
  {
   "cell_type": "markdown",
   "metadata": {},
   "source": [
    "다음과 같은 식에 대해 미분을 한다고 가정.\n",
    "\n",
    "$f(x) = 9x^4 + 2x^3 + 3x^2 + 6x + 1$\n",
    "\n",
    "$\\cfrac {df(x)}{dx} = \\cfrac {d(9x^4 + 2x^3 + 3x^2 + 6x + 1)}{dx} = 36x^3 + 6x^2 + 6x + 6$\n",
    "\n",
    "만약 $x=2$이면 derivative는 $36 \\times 2^3 + 6 \\times 2^2 + 6 \\times 2 + 6 = 330$"
   ]
  },
  {
   "cell_type": "markdown",
   "metadata": {},
   "source": [
    "위에서 말했던 대로 backward를 수행하는 y는 스칼라값이여야 함."
   ]
  },
  {
   "cell_type": "code",
   "execution_count": 8,
   "metadata": {},
   "outputs": [
    {
     "name": "stdout",
     "output_type": "stream",
     "text": [
      "tensor(330.)\n"
     ]
    }
   ],
   "source": [
    "x = torch.tensor(2.0, requires_grad=True)\n",
    "y = 9*x**4 + 2*x**3 + 3*x**2 + 6*x + 1\n",
    "y.backward()\n",
    "print(x.grad)"
   ]
  },
  {
   "cell_type": "markdown",
   "metadata": {},
   "source": [
    "Matrix에 대해서 gradient를 구하고 싶다면?\n",
    "\n",
    "1) 연산 자체에 `.sum()` 또는 `.mean()`을 사용"
   ]
  },
  {
   "cell_type": "code",
   "execution_count": 9,
   "metadata": {},
   "outputs": [
    {
     "name": "stdout",
     "output_type": "stream",
     "text": [
      "x = tensor([[-0.3201,  0.0241],\n",
      "        [-1.7517, -0.6088]], requires_grad=True)\n",
      "y = tensor([[2.6799, 3.0241],\n",
      "        [1.2483, 2.3912]], grad_fn=<AddBackward0>)\n",
      "z = 23.60271644592285\n",
      "x grad = tensor([[5.3598, 6.0482],\n",
      "        [2.4966, 4.7823]])\n",
      "y grad = None\n",
      "z grad = None\n"
     ]
    },
    {
     "name": "stderr",
     "output_type": "stream",
     "text": [
      "/home/hwan/anaconda3/envs/torch1.7.1/lib/python3.7/site-packages/ipykernel_launcher.py:12: UserWarning: The .grad attribute of a Tensor that is not a leaf Tensor is being accessed. Its .grad attribute won't be populated during autograd.backward(). If you indeed want the gradient for a non-leaf Tensor, use .retain_grad() on the non-leaf Tensor. If you access the non-leaf Tensor by mistake, make sure you access the leaf Tensor instead. See github.com/pytorch/pytorch/pull/30531 for more informations.\n",
      "  if sys.path[0] == '':\n",
      "/home/hwan/anaconda3/envs/torch1.7.1/lib/python3.7/site-packages/ipykernel_launcher.py:13: UserWarning: The .grad attribute of a Tensor that is not a leaf Tensor is being accessed. Its .grad attribute won't be populated during autograd.backward(). If you indeed want the gradient for a non-leaf Tensor, use .retain_grad() on the non-leaf Tensor. If you access the non-leaf Tensor by mistake, make sure you access the leaf Tensor instead. See github.com/pytorch/pytorch/pull/30531 for more informations.\n",
      "  del sys.path[0]\n"
     ]
    }
   ],
   "source": [
    "x = torch.randn(2, 2, requires_grad=True)\n",
    "\n",
    "y = x + 3\n",
    "z = (y * y).sum()\n",
    "z.backward()\n",
    "\n",
    "print(f'x = {x}')\n",
    "print(f'y = {y}')\n",
    "print(f'z = {z}')\n",
    "\n",
    "print(f'x grad = {x.grad}')\n",
    "print(f'y grad = {y.grad}')\n",
    "print(f'z grad = {z.grad}')"
   ]
  },
  {
   "cell_type": "markdown",
   "metadata": {},
   "source": [
    "위에서 볼 수 있다시피 `y, z`에는 실제 grad가 저장되지는 않음\n",
    "\n",
    "2) 또는 matrix의 `.backward()` 인자를 넣어주면 됨\n",
    "\n",
    "- `torch.Tensor.backward(gradient=None)`: Computes the gradient of current tensor w.r.t. graph leaves"
   ]
  },
  {
   "cell_type": "code",
   "execution_count": 10,
   "metadata": {},
   "outputs": [
    {
     "name": "stdout",
     "output_type": "stream",
     "text": [
      "tensor([[8.3303, 0.0103],\n",
      "        [1.1132, 3.2378]])\n"
     ]
    }
   ],
   "source": [
    "x = torch.randn(2, 2, requires_grad=True)\n",
    "\n",
    "y = x + 2\n",
    "\n",
    "z = (y * y)\n",
    "\n",
    "y.backward(z)\n",
    "\n",
    "print(x.grad)"
   ]
  },
  {
   "cell_type": "markdown",
   "metadata": {},
   "source": [
    "#### Partial Derivative\n",
    "\n",
    "$Q = 3a^3 - b^2$"
   ]
  },
  {
   "cell_type": "markdown",
   "metadata": {},
   "source": [
    "1) Q는 벡터이므로 `Q.backward()`에 `gradient` 인자를 전달해야한다\n",
    "\n",
    "2) 또는 Q.sum().backward()와 같이 Q를 scalar값으로 `aggregate`한 뒤 암시적으로 `backward()`를 호출\n"
   ]
  },
  {
   "cell_type": "code",
   "execution_count": 13,
   "metadata": {},
   "outputs": [
    {
     "name": "stdout",
     "output_type": "stream",
     "text": [
      "tensor([36., 81.]) tensor([24., 16.])\n"
     ]
    }
   ],
   "source": [
    "a = torch.tensor([2., 3.], requires_grad=True)\n",
    "b = torch.tensor([6., 4.], requires_grad=True)\n",
    "\n",
    "Q = 3*a**3 + 2 * b**2\n",
    "\n",
    "external_grad = torch.tensor([1., 1.])\n",
    "Q.backward(external_grad)\n",
    "\n",
    "print(a.grad, b.grad)"
   ]
  },
  {
   "cell_type": "code",
   "execution_count": 14,
   "metadata": {},
   "outputs": [
    {
     "name": "stdout",
     "output_type": "stream",
     "text": [
      "tensor([36., 81.]) tensor([24., 16.])\n"
     ]
    }
   ],
   "source": [
    "a = torch.tensor([2., 3.], requires_grad=True)\n",
    "b = torch.tensor([6., 4.], requires_grad=True)\n",
    "\n",
    "Q = 3*a**3 + 2 * b**2\n",
    "\n",
    "Q.sum().backward()\n",
    "print(a.grad, b.grad)"
   ]
  },
  {
   "cell_type": "markdown",
   "metadata": {},
   "source": [
    "#### Computational Graph\n",
    "- 개념적으로 `torch.autograd`는 어떤 tensor에 실행된 모든 연산들의 기록을 `Function` 객체로 구성된 DAG(Directed Acyclic Graph)에 저장한다.\n",
    "\n",
    "- DAG의 잎(leave)는 입력 tensor 이고, 뿌리(root)는 결과 tensor 임\n",
    "\n",
    "- Forward에서 `torch.autograd`가 하는 일\n",
    "    - 요청된 연산을 수행하여 결과 텐서를 계산\n",
    "    \n",
    "    - DAG에 연산의 grad_fn을 유지 함\n",
    "\n",
    "- Backward는 DAG의 root에서 `.backward()`가 호출될 때 시작함, 이 때 `torch.autograd`가 하는 일\n",
    "    - 각 `.grad_fn` 으로부터 변화도를 계산\n",
    "\n",
    "    - 각 텐서의 `.grad` 속성에 계산 결과를 쌓는다 (accumulate)\n",
    "\n",
    "    - chain rule을 사용하여 모든 leaf 텐서들까지 propagate 수행"
   ]
  },
  {
   "cell_type": "markdown",
   "metadata": {},
   "source": [
    "`torch.autograd`는 `requires_grad`라는 플래그가 `True`인 텐서들에 대해서 연산을 추적함\n",
    "\n",
    "따라서 derivative 계산이 필요없는 텐서는 속성값을 `False`로 설정해서 DAG에서 제외함\n",
    "\n",
    "또한 입력 텐서 중 하나라도 `requires_grad=True`이면 결과 텐서도 변화도를 갖게됨"
   ]
  },
  {
   "cell_type": "code",
   "execution_count": 16,
   "metadata": {},
   "outputs": [
    {
     "name": "stdout",
     "output_type": "stream",
     "text": [
      "False\n",
      "True\n"
     ]
    }
   ],
   "source": [
    "x = torch.randn(5, 5)\n",
    "y = torch.randn(5, 5)\n",
    "z = torch.randn(5, 5, requires_grad=True)\n",
    "\n",
    "a = x + y\n",
    "b = x + z\n",
    "\n",
    "print(a.requires_grad)\n",
    "print(b.requires_grad)"
   ]
  },
  {
   "cell_type": "markdown",
   "metadata": {},
   "source": [
    "Finetuning 할 때 모델의 파라미터를 고정 시키기 (파라미터들의 변화도를 필요없게 설정하여 DAG에서 제외시키므로서 `autograd`의 연산량을 줄임)"
   ]
  },
  {
   "cell_type": "code",
   "execution_count": 17,
   "metadata": {},
   "outputs": [
    {
     "name": "stderr",
     "output_type": "stream",
     "text": [
      "Downloading: \"https://download.pytorch.org/models/resnet18-5c106cde.pth\" to /home/hwan/.cache/torch/hub/checkpoints/resnet18-5c106cde.pth\n"
     ]
    },
    {
     "data": {
      "application/vnd.jupyter.widget-view+json": {
       "model_id": "1468f4d5cbc04a2b962f0b7108d9d78f",
       "version_major": 2,
       "version_minor": 0
      },
      "text/plain": [
       "  0%|          | 0.00/44.7M [00:00<?, ?B/s]"
      ]
     },
     "metadata": {},
     "output_type": "display_data"
    }
   ],
   "source": [
    "import torch.nn as nn \n",
    "import torch.optim as optim\n",
    "import torchvision\n",
    "\n",
    "model = torchvision.models.resnet18(pretrained=True)\n",
    "\n",
    "for param in model.parameters():\n",
    "    param.requires_grad = False"
   ]
  },
  {
   "cell_type": "code",
   "execution_count": 18,
   "metadata": {},
   "outputs": [
    {
     "data": {
      "text/plain": [
       "Linear(in_features=512, out_features=1000, bias=True)"
      ]
     },
     "execution_count": 18,
     "metadata": {},
     "output_type": "execute_result"
    }
   ],
   "source": [
    "model.fc"
   ]
  },
  {
   "cell_type": "markdown",
   "metadata": {},
   "source": [
    "Linear Probing을 위해 모델의 마지막 layer만 바꾼다고 가정"
   ]
  },
  {
   "cell_type": "code",
   "execution_count": 19,
   "metadata": {},
   "outputs": [],
   "source": [
    "model.fc = nn.Linear(512, 10)\n",
    "\n",
    "optimizer = optim.SGD(model.parameters(), lr=1e-4)"
   ]
  },
  {
   "cell_type": "markdown",
   "metadata": {},
   "source": [
    "Optimizer가 model의 모든 파라미터를 받지만, derivative를 계산하고, 파라미터를 update할 수 있는 부분은 fc 부분임"
   ]
  },
  {
   "cell_type": "markdown",
   "metadata": {},
   "source": [
    "#### Training, Eval\n",
    "\n",
    "`with torch.no_grad():`에서 x가 어떤 연산을 수행했을 때, `requires_grad = False`가 되는 것을 알 수 있음\n",
    "\n",
    "- `torch.no_grad()` -- Context-manager that disabled gradient calculations\n",
    "    - `torch.autograd`의 엔진이 꺼져버린다. = 앞으로 gradient의 자동 tracking을 하지 않겠다\n",
    "    \n",
    "    - 어차피 `loss.backward()`를 호출 안하고, backpropagation도 안하는데 굳이 gradient 계산을 안하게 하는 이유?\n",
    "\n",
    "    - 메모리 사용량을 줄이고 연산 속도를 높히려고\n",
    "\n",
    "- `model.eval()` -- Batch normalization, dropout과 같은 것들을 evaluation mode로 바꿔줌"
   ]
  },
  {
   "cell_type": "code",
   "execution_count": 22,
   "metadata": {},
   "outputs": [
    {
     "name": "stdout",
     "output_type": "stream",
     "text": [
      "True\n",
      "True\n",
      "False\n",
      "True\n"
     ]
    }
   ],
   "source": [
    "x = torch.tensor(1.0, requires_grad=True)\n",
    "\n",
    "print(x.requires_grad)\n",
    "\n",
    "with torch.no_grad():\n",
    "    print(x.requires_grad)\n",
    "    print((x + 3).requires_grad)\n",
    "\n",
    "print(x.requires_grad)"
   ]
  },
  {
   "cell_type": "markdown",
   "metadata": {},
   "source": [
    "### 여러가지 유용한 함수들\n",
    "- `torch.gather(input, dim, index)` : Gathers values along an axis specified by `dim`\n",
    "\n",
    "- `torch.tensor.gather(dim, index)`\n",
    "\n",
    "- `torch.tensor.expand(sizes)` : Returns a new view of the `self` tensor with singleton dimensions expanded to a larger size\n",
    "\n",
    "- `torch.tensor.repeat(sizes)` : Repeats this tensor along the specified dimensions / Unlike `expand()`, this function copies the tensor's data\n",
    "\n",
    "- `torch.topk(input, k, dim=None, largest=True, sorted=True)` : Returns the k largest elements of the given `input` tensor along a given dimension"
   ]
  },
  {
   "cell_type": "code",
   "execution_count": 23,
   "metadata": {},
   "outputs": [
    {
     "name": "stdout",
     "output_type": "stream",
     "text": [
      "tensor([1, 2, 3, 4, 5, 6, 7, 8, 9])\n",
      "tensor([0, 3, 5, 6])\n"
     ]
    },
    {
     "data": {
      "text/plain": [
       "tensor([1, 4, 6, 7])"
      ]
     },
     "execution_count": 23,
     "metadata": {},
     "output_type": "execute_result"
    }
   ],
   "source": [
    "# torch.gather 은 index를 기준으로 tensor의 특정 값을 추출하기 위해 사용\n",
    "# 파이썬 내장 indexing 기능과 유사하지만, 최적화나 호환성을 위해 torch 함수를 최대한 사용해야 하는 상황에 torch.gather 사용\n",
    "\n",
    "x = torch.arange(1, 10)\n",
    "print(x)\n",
    "\n",
    "indices = torch.tensor([0, 3, 5, 6])\n",
    "print(indices)\n",
    "\n",
    "torch.gather(x, dim=0, index=indices)"
   ]
  },
  {
   "cell_type": "code",
   "execution_count": 26,
   "metadata": {},
   "outputs": [
    {
     "name": "stdout",
     "output_type": "stream",
     "text": [
      "tensor([[ 0,  1,  2,  3,  4],\n",
      "        [ 5,  6,  7,  8,  9],\n",
      "        [10, 11, 12, 13, 14],\n",
      "        [15, 16, 17, 18, 19],\n",
      "        [20, 21, 22, 23, 24]])\n",
      "tensor([[ 0,  1,  2],\n",
      "        [ 6,  7,  8],\n",
      "        [11, 12, 12],\n",
      "        [17, 18, 18],\n",
      "        [20, 20, 20]])\n"
     ]
    }
   ],
   "source": [
    "# 이차원인 경우에 indices도 똑같이 생각하면 편리함\n",
    "# indices의 0번째 행의 값 = tensor의 0번째 행에서 가져올 값들의 인덱스\n",
    "# 이때 gather에 들어갈 tensor의 \n",
    "\n",
    "x = torch.arange(25).reshape(5, 5)\n",
    "print(x)\n",
    "\n",
    "indices = torch.tensor([\n",
    "    [0, 1, 2],\n",
    "    [1, 2, 3],\n",
    "    [1, 2, 2],\n",
    "    [2, 3, 3],\n",
    "    [0, 0, 0]\n",
    "])\n",
    "\n",
    "print(torch.gather(x, 1, indices))"
   ]
  },
  {
   "cell_type": "code",
   "execution_count": 27,
   "metadata": {},
   "outputs": [
    {
     "name": "stdout",
     "output_type": "stream",
     "text": [
      "torch.Size([3, 1])\n",
      "tensor([[1, 1, 1, 1],\n",
      "        [2, 2, 2, 2],\n",
      "        [3, 3, 3, 3]]) torch.Size([3, 4])\n",
      "tensor([[1, 1, 1, 1],\n",
      "        [2, 2, 2, 2],\n",
      "        [3, 3, 3, 3]]) torch.Size([3, 4])\n"
     ]
    }
   ],
   "source": [
    "# torch.expand 와 torch.repeat 모두 값을 반복시키는 연산\n",
    "# torch.expand는 특정 tensor를 반복하며 생성하고, 개수가 1인 차원에만 적용 가능\n",
    "\n",
    "x = torch.tensor([[1], [2], [3]])\n",
    "print(x.size())\n",
    "\n",
    "x1 = x.expand(3, 4) # 3 x 1짜리를 3 x 4로 늘리니깐 복사\n",
    "print(x1, x1.size())\n",
    "\n",
    "x2 = x.expand(-1, 4) # 차원이 1인 곳만 expand해서 증가하기 때문에 1을 4로 늘리고 나머지는 알아서 계산하라고 -1\n",
    "print(x2, x2.size())"
   ]
  },
  {
   "cell_type": "code",
   "execution_count": 28,
   "metadata": {},
   "outputs": [
    {
     "name": "stdout",
     "output_type": "stream",
     "text": [
      "tensor([[[0.2199]],\n",
      "\n",
      "        [[0.7933]],\n",
      "\n",
      "        [[0.7867]]]) torch.Size([3, 1, 1])\n",
      "tensor([[[0.2199, 0.2199, 0.2199, 0.2199],\n",
      "         [0.2199, 0.2199, 0.2199, 0.2199]],\n",
      "\n",
      "        [[0.7933, 0.7933, 0.7933, 0.7933],\n",
      "         [0.7933, 0.7933, 0.7933, 0.7933]],\n",
      "\n",
      "        [[0.7867, 0.7867, 0.7867, 0.7867],\n",
      "         [0.7867, 0.7867, 0.7867, 0.7867]]]) torch.Size([3, 2, 4])\n"
     ]
    }
   ],
   "source": [
    "x = torch.rand(3, 1, 1)\n",
    "print(x, x.size())\n",
    "\n",
    "z = x.expand(-1, 2, 4)\n",
    "print(z, z.size())"
   ]
  },
  {
   "cell_type": "code",
   "execution_count": 29,
   "metadata": {},
   "outputs": [
    {
     "name": "stdout",
     "output_type": "stream",
     "text": [
      "tensor([[0.6951, 0.6928, 0.7578],\n",
      "        [0.6913, 0.5426, 0.1170]]) torch.Size([2, 3])\n",
      "tensor([[[0.6951, 0.6928, 0.7578, 0.6951, 0.6928, 0.7578],\n",
      "         [0.6913, 0.5426, 0.1170, 0.6913, 0.5426, 0.1170],\n",
      "         [0.6951, 0.6928, 0.7578, 0.6951, 0.6928, 0.7578],\n",
      "         [0.6913, 0.5426, 0.1170, 0.6913, 0.5426, 0.1170]],\n",
      "\n",
      "        [[0.6951, 0.6928, 0.7578, 0.6951, 0.6928, 0.7578],\n",
      "         [0.6913, 0.5426, 0.1170, 0.6913, 0.5426, 0.1170],\n",
      "         [0.6951, 0.6928, 0.7578, 0.6951, 0.6928, 0.7578],\n",
      "         [0.6913, 0.5426, 0.1170, 0.6913, 0.5426, 0.1170]],\n",
      "\n",
      "        [[0.6951, 0.6928, 0.7578, 0.6951, 0.6928, 0.7578],\n",
      "         [0.6913, 0.5426, 0.1170, 0.6913, 0.5426, 0.1170],\n",
      "         [0.6951, 0.6928, 0.7578, 0.6951, 0.6928, 0.7578],\n",
      "         [0.6913, 0.5426, 0.1170, 0.6913, 0.5426, 0.1170]]]) torch.Size([3, 4, 6])\n"
     ]
    }
   ],
   "source": [
    "# torch.expand가 차원이 1인 값을 원하는 크기만큼 복사에서 늘리는 거라면\n",
    "# torch.repeat는 tensor 자체를 반복해서 값을 채운다\n",
    "\n",
    "x = torch.rand(2, 3)\n",
    "print(x, x.size())\n",
    "\n",
    "y = x.repeat(3, 2, 2)\n",
    "print(y, y.size()) # x는 2 x 3인데 이에 3 x 2 x 2 만큼 반복을 하면 (3, 2 x 2, 2 x 3) = (3, 4, 6)이 된다"
   ]
  },
  {
   "cell_type": "code",
   "execution_count": 33,
   "metadata": {},
   "outputs": [
    {
     "data": {
      "text/plain": [
       "torch.Size([3, 8, 15, 12])"
      ]
     },
     "execution_count": 33,
     "metadata": {},
     "output_type": "execute_result"
    }
   ],
   "source": [
    "x = torch.rand(2, 3, 2)\n",
    "\n",
    "# (2 x 3 x 2) repeat (3 x 4 x 5 x 6) = (3, 2 x 4, 3 x 5, 2 x 6) = (3, 8, 15, 12)\n",
    "\n",
    "x.repeat(3, 4, 5, 6).size()"
   ]
  },
  {
   "cell_type": "code",
   "execution_count": 34,
   "metadata": {},
   "outputs": [
    {
     "name": "stdout",
     "output_type": "stream",
     "text": [
      "tensor([[[0.5299],\n",
      "         [0.2750],\n",
      "         [0.5214]],\n",
      "\n",
      "        [[0.6904],\n",
      "         [0.3287],\n",
      "         [0.7033]]])\n",
      "tensor([[[0.5299, 0.5299, 0.5299, 0.5299, 0.5299],\n",
      "         [0.2750, 0.2750, 0.2750, 0.2750, 0.2750],\n",
      "         [0.5214, 0.5214, 0.5214, 0.5214, 0.5214]],\n",
      "\n",
      "        [[0.6904, 0.6904, 0.6904, 0.6904, 0.6904],\n",
      "         [0.3287, 0.3287, 0.3287, 0.3287, 0.3287],\n",
      "         [0.7033, 0.7033, 0.7033, 0.7033, 0.7033]]])\n",
      "tensor([[[1.5299],\n",
      "         [1.2750],\n",
      "         [1.5214]],\n",
      "\n",
      "        [[1.6904],\n",
      "         [1.3287],\n",
      "         [1.7033]]])\n",
      "tensor([[[1.5299, 1.5299, 1.5299, 1.5299, 1.5299],\n",
      "         [1.2750, 1.2750, 1.2750, 1.2750, 1.2750],\n",
      "         [1.5214, 1.5214, 1.5214, 1.5214, 1.5214]],\n",
      "\n",
      "        [[1.6904, 1.6904, 1.6904, 1.6904, 1.6904],\n",
      "         [1.3287, 1.3287, 1.3287, 1.3287, 1.3287],\n",
      "         [1.7033, 1.7033, 1.7033, 1.7033, 1.7033]]])\n"
     ]
    }
   ],
   "source": [
    "### torch.expand와 torch.repeat는 내부적으로 동작방식이 다름\n",
    "### torch.expand는 원본 tensor를 참조하여 만들기 때문에 원래 tensor가 변경되면 expand된 값도 변경됨\n",
    "### 반면에 torch.repeat는 deepcopy에 의해 생성되기 때문에 원래 tensor가 변경되어도 변하지 않음\n",
    "\n",
    "x = torch.rand(2, 3, 1)\n",
    "print(x)\n",
    "x_expand = x.expand(2, 3, 5)\n",
    "print(x_expand)\n",
    "\n",
    "x += 1\n",
    "print(x)\n",
    "print(x_expand)"
   ]
  },
  {
   "cell_type": "code",
   "execution_count": 35,
   "metadata": {},
   "outputs": [
    {
     "name": "stdout",
     "output_type": "stream",
     "text": [
      "tensor([[-0.6371, -1.3024]])\n",
      "tensor([[[-0.6371, -1.3024, -0.6371, -1.3024]],\n",
      "\n",
      "        [[-0.6371, -1.3024, -0.6371, -1.3024]]])\n",
      "tensor([[0., 0.]])\n",
      "tensor([[[-0.6371, -1.3024, -0.6371, -1.3024]],\n",
      "\n",
      "        [[-0.6371, -1.3024, -0.6371, -1.3024]]])\n"
     ]
    }
   ],
   "source": [
    "x = torch.randn(1, 2)\n",
    "\n",
    "print(x)\n",
    "\n",
    "y = x.repeat(2, 1, 2)\n",
    "\n",
    "print(y)\n",
    "\n",
    "x[0] = 0\n",
    "print(x)\n",
    "\n",
    "print(y)"
   ]
  },
  {
   "cell_type": "code",
   "execution_count": 36,
   "metadata": {},
   "outputs": [
    {
     "name": "stdout",
     "output_type": "stream",
     "text": [
      "tensor([1, 2, 3, 4, 5])\n",
      "tensor([5, 4, 3])\n",
      "tensor([4, 3, 2])\n"
     ]
    }
   ],
   "source": [
    "# torch.topk는 tensor에서 가장 큰 k 개의 값을 추출하는 연산이다.\n",
    "# torch.topk의 output은 tuple의 형태로 (values: Tensor, indices: LongTensor)로 나옴\n",
    "\n",
    "x = torch.arange(1, 6)\n",
    "print(x)\n",
    "\n",
    "values, indices = torch.topk(x, 3)\n",
    "print(values)\n",
    "print(indices)"
   ]
  },
  {
   "cell_type": "code",
   "execution_count": 38,
   "metadata": {},
   "outputs": [
    {
     "name": "stdout",
     "output_type": "stream",
     "text": [
      "tensor([[[0.4066, 0.4182, 0.5242],\n",
      "         [0.0529, 0.8201, 0.9994],\n",
      "         [0.0452, 0.0121, 0.8284],\n",
      "         [0.1758, 0.5043, 0.1529]],\n",
      "\n",
      "        [[0.5257, 0.3002, 0.0814],\n",
      "         [0.4746, 0.7907, 0.8573],\n",
      "         [0.5949, 0.4687, 0.9740],\n",
      "         [0.4998, 0.7100, 0.7023]]])\n",
      "tensor([[[0.5242, 0.4182],\n",
      "         [0.9994, 0.8201],\n",
      "         [0.8284, 0.0452],\n",
      "         [0.5043, 0.1758]],\n",
      "\n",
      "        [[0.5257, 0.3002],\n",
      "         [0.8573, 0.7907],\n",
      "         [0.9740, 0.5949],\n",
      "         [0.7100, 0.7023]]])\n",
      "tensor([[[2, 1],\n",
      "         [2, 1],\n",
      "         [2, 0],\n",
      "         [1, 0]],\n",
      "\n",
      "        [[0, 1],\n",
      "         [2, 1],\n",
      "         [2, 0],\n",
      "         [1, 2]]])\n"
     ]
    }
   ],
   "source": [
    "x = torch.rand(2, 4, 3)\n",
    "print(x)\n",
    "\n",
    "val, idx = torch.topk(x, 2)\n",
    "print(val)\n",
    "print(idx)"
   ]
  },
  {
   "cell_type": "code",
   "execution_count": 40,
   "metadata": {},
   "outputs": [
    {
     "data": {
      "text/plain": [
       "tensor([[[True, True],\n",
       "         [True, True],\n",
       "         [True, True],\n",
       "         [True, True]],\n",
       "\n",
       "        [[True, True],\n",
       "         [True, True],\n",
       "         [True, True],\n",
       "         [True, True]]])"
      ]
     },
     "execution_count": 40,
     "metadata": {},
     "output_type": "execute_result"
    }
   ],
   "source": [
    "# topk의 indices와 torch.gather을 같이 사용할 수 있음\n",
    "\n",
    "torch.gather(x, -1, idx) == val"
   ]
  },
  {
   "cell_type": "code",
   "execution_count": 42,
   "metadata": {},
   "outputs": [
    {
     "data": {
      "text/plain": [
       "tensor([[[0.1852],\n",
       "         [0.5325],\n",
       "         [0.3681],\n",
       "         [0.1506]],\n",
       "\n",
       "        [[0.6125],\n",
       "         [0.8904],\n",
       "         [0.9535],\n",
       "         [0.4875]],\n",
       "\n",
       "        [[0.9080],\n",
       "         [0.9120],\n",
       "         [0.4572],\n",
       "         [0.1577]]])"
      ]
     },
     "execution_count": 42,
     "metadata": {},
     "output_type": "execute_result"
    }
   ],
   "source": [
    "# 둘이 같이 쓰는 경우\n",
    "# x와 y의 shape이 같은 상황에서, x의 최댓값이 있는 위치의 y는 어떤 값을 갖는지 궁금하다\n",
    "\n",
    "x = torch.rand(3, 4, 2)\n",
    "y = torch.rand(3, 4, 2)\n",
    "\n",
    "val, idx = torch.topk(x, 1, dim=2)\n",
    "\n",
    "torch.gather(y, 2, idx)"
   ]
  }
 ],
 "metadata": {
  "kernelspec": {
   "display_name": "Python 3.7.13 ('torch1.7.1')",
   "language": "python",
   "name": "python3"
  },
  "language_info": {
   "codemirror_mode": {
    "name": "ipython",
    "version": 3
   },
   "file_extension": ".py",
   "mimetype": "text/x-python",
   "name": "python",
   "nbconvert_exporter": "python",
   "pygments_lexer": "ipython3",
   "version": "3.7.13"
  },
  "orig_nbformat": 4,
  "vscode": {
   "interpreter": {
    "hash": "b4a84903a2b3fdb7d367cfd9ea570be165ad361672f95a63c30b0740103c512e"
   }
  }
 },
 "nbformat": 4,
 "nbformat_minor": 2
}
