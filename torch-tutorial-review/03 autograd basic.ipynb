{
 "cells": [
  {
   "cell_type": "markdown",
   "metadata": {},
   "source": [
    "### Autograd 사용\n",
    "- 어떤 tensor가 학습에 필요한 tensor라면 `backpropagation`을 통해 gradient를 구해야 함\n",
    "\n",
    "- `tensor`의 gradient를 구하기 위한 조건\n",
    "\n",
    "    - `requires_grad = True` 로 설정되어 있어야함, default는 False\n",
    "    \n",
    "    - `backpropagation`을 시작하는 지점의 output은 `scalar` 형태   \n",
    "    \n",
    "- `tensor`의 gradient를 계산하기 위해서는 output 지점의 tensor에서 `.backward()` 함수를 호출하면 됨\n",
    "\n",
    "- gradient 값을 확인하려면 `requires_grad=True`로 생성한 tensor에 `.grad` 를 통해 확인할 수 있음"
   ]
  },
  {
   "cell_type": "markdown",
   "metadata": {},
   "source": [
    "### Autograd 개념"
   ]
  },
  {
   "cell_type": "markdown",
   "metadata": {},
   "source": [
    "`x`는 2 x 2 크기의 1로 구성된 tensor를 생성한 것이고\n",
    "\n",
    "`y`는 `requires_grad=True`로 설정하여 역전파 과정을 수행할 수 있게 됨"
   ]
  },
  {
   "cell_type": "code",
   "execution_count": 1,
   "metadata": {},
   "outputs": [
    {
     "name": "stdout",
     "output_type": "stream",
     "text": [
      "tensor([[1., 1.],\n",
      "        [1., 1.]])\n",
      "tensor([[1., 1.],\n",
      "        [1., 1.]], requires_grad=True)\n"
     ]
    }
   ],
   "source": [
    "import torch\n",
    "\n",
    "x = torch.ones(2, 2)\n",
    "print(x)\n",
    "\n",
    "y = torch.ones(2, 2, requires_grad=True)\n",
    "print(y)"
   ]
  },
  {
   "cell_type": "markdown",
   "metadata": {},
   "source": [
    "앞서 생성한 tensor에 `+3`이라는 연산을 수행했음\n",
    "\n",
    "연산을 수행한 `y`에 `grad_fn`이 `<AddBackward0>`를 담고 있음\n",
    "\n",
    "`grad_fn`은 해당 텐서가 어떤 연산을 수행했는지와 관련된 정보를 가지고 있고, 이 정보를 추후에 역전파에 사용함"
   ]
  },
  {
   "cell_type": "code",
   "execution_count": 2,
   "metadata": {},
   "outputs": [
    {
     "name": "stdout",
     "output_type": "stream",
     "text": [
      "x = tensor([[1., 1.],\n",
      "        [1., 1.]])\n",
      "x1 = tensor([[4., 4.],\n",
      "        [4., 4.]])\n",
      "y = tensor([[1., 1.],\n",
      "        [1., 1.]], requires_grad=True)\n",
      "y1 = tensor([[4., 4.],\n",
      "        [4., 4.]], grad_fn=<AddBackward0>)\n"
     ]
    }
   ],
   "source": [
    "print(f'x = {x}')\n",
    "\n",
    "x1 = x + 3\n",
    "print(f'x1 = {x1}')\n",
    "\n",
    "print(f'y = {y}')\n",
    "\n",
    "y1 = y + 3\n",
    "print(f'y1 = {y1}')"
   ]
  },
  {
   "cell_type": "markdown",
   "metadata": {},
   "source": [
    "사칙연산을 수행한 후에 역전파에 활용할 정보를 저장하는 `grad_fn`을 보면 각각\n",
    "\n",
    "`AddBackward0`, `SubBackward0`, `MulBackward0`, `DivBackward0` 등이 저장되어 있음"
   ]
  },
  {
   "cell_type": "code",
   "execution_count": 6,
   "metadata": {},
   "outputs": [
    {
     "name": "stdout",
     "output_type": "stream",
     "text": [
      "x = tensor([[1., 1.],\n",
      "        [1., 1.]], requires_grad=True)\n",
      "x1 = tensor([[3., 3.],\n",
      "        [3., 3.]], grad_fn=<AddBackward0>)\n",
      "x2 = tensor([[-3., -3.],\n",
      "        [-3., -3.]], grad_fn=<SubBackward0>)\n",
      "x3 = tensor([[1.2000, 1.2000],\n",
      "        [1.2000, 1.2000]], grad_fn=<MulBackward0>)\n",
      "x4 = tensor([[2., 2.],\n",
      "        [2., 2.]], grad_fn=<DivBackward0>)\n"
     ]
    }
   ],
   "source": [
    "x = torch.ones(2, 2, requires_grad=True)\n",
    "print(f'x = {x}')\n",
    "x1 = x + 2\n",
    "print(f'x1 = {x1}')\n",
    "x2 = x - 4\n",
    "print(f'x2 = {x2}')\n",
    "x3 = x * 1.2\n",
    "print(f'x3 = {x3}')\n",
    "x4 = x / 0.5\n",
    "print(f'x4 = {x4}')"
   ]
  },
  {
   "cell_type": "markdown",
   "metadata": {},
   "source": [
    "원래 `reqiures_grad=False`로 default가 되어있는 tensor에 속성을 추가할 때는\n",
    "\n",
    "`x.requires_grad_(True)` 로 앞으로는 연산 정보를 저장하게 설정해줄 수 있음\n",
    "\n",
    "하지만, 그 전에 x가 거쳐왔던 연산들은 저장을 하고 있지 않았기 때문에\n",
    "\n",
    "그 전의 연산들은 없는 상태로 인식됨"
   ]
  },
  {
   "cell_type": "code",
   "execution_count": 7,
   "metadata": {},
   "outputs": [
    {
     "name": "stdout",
     "output_type": "stream",
     "text": [
      "x = tensor([[1., 1.],\n",
      "        [1., 1.]])\n",
      "x1 = tensor([[4., 4.],\n",
      "        [4., 4.]])\n",
      "x2 = tensor([[2., 2.],\n",
      "        [2., 2.]])\n",
      "x1 = tensor([[4., 4.],\n",
      "        [4., 4.]], requires_grad=True)\n",
      "x2 = tensor([[2., 2.],\n",
      "        [2., 2.]], requires_grad=True)\n"
     ]
    }
   ],
   "source": [
    "x = torch.ones(2, 2)\n",
    "x1 = x + 3\n",
    "x2 = x1 * 0.5\n",
    "\n",
    "print(f'x = {x}')\n",
    "print(f'x1 = {x1}')\n",
    "print(f'x2 = {x2}')\n",
    "\n",
    "x1.requires_grad_(True)\n",
    "x2.requires_grad_(True)\n",
    "\n",
    "print(f'x1 = {x1}')\n",
    "print(f'x2 = {x2}')"
   ]
  },
  {
   "cell_type": "markdown",
   "metadata": {},
   "source": [
    "#### Derivative"
   ]
  },
  {
   "cell_type": "markdown",
   "metadata": {},
   "source": [
    "다음과 같은 식에 대해 미분을 한다고 가정.\n",
    "\n",
    "$f(x) = 9x^4 + 2x^3 + 3x^2 + 6x + 1$\n",
    "\n",
    "$\\cfrac {df(x)}{dx} = \\cfrac {d(9x^4 + 2x^3 + 3x^2 + 6x + 1)}{dx} = 36x^3 + 6x^2 + 6x + 6$\n",
    "\n",
    "만약 $x=2$이면 derivative는 $36 \\times 2^3 + 6 \\times 2^2 + 6 \\times 2 + 6 = 330$"
   ]
  },
  {
   "cell_type": "markdown",
   "metadata": {},
   "source": [
    "위에서 말했던 대로 backward를 수행하는 y는 스칼라값이여야 함."
   ]
  },
  {
   "cell_type": "code",
   "execution_count": 8,
   "metadata": {},
   "outputs": [
    {
     "name": "stdout",
     "output_type": "stream",
     "text": [
      "tensor(330.)\n"
     ]
    }
   ],
   "source": [
    "x = torch.tensor(2.0, requires_grad=True)\n",
    "y = 9*x**4 + 2*x**3 + 3*x**2 + 6*x + 1\n",
    "y.backward()\n",
    "print(x.grad)"
   ]
  },
  {
   "cell_type": "markdown",
   "metadata": {},
   "source": [
    "Matrix에 대해서 gradient를 구하고 싶다면?\n",
    "\n",
    "1) 연산 자체에 `.sum()` 또는 `.mean()`을 사용"
   ]
  },
  {
   "cell_type": "code",
   "execution_count": 9,
   "metadata": {},
   "outputs": [
    {
     "name": "stdout",
     "output_type": "stream",
     "text": [
      "x = tensor([[-0.3201,  0.0241],\n",
      "        [-1.7517, -0.6088]], requires_grad=True)\n",
      "y = tensor([[2.6799, 3.0241],\n",
      "        [1.2483, 2.3912]], grad_fn=<AddBackward0>)\n",
      "z = 23.60271644592285\n",
      "x grad = tensor([[5.3598, 6.0482],\n",
      "        [2.4966, 4.7823]])\n",
      "y grad = None\n",
      "z grad = None\n"
     ]
    },
    {
     "name": "stderr",
     "output_type": "stream",
     "text": [
      "/home/hwan/anaconda3/envs/torch1.7.1/lib/python3.7/site-packages/ipykernel_launcher.py:12: UserWarning: The .grad attribute of a Tensor that is not a leaf Tensor is being accessed. Its .grad attribute won't be populated during autograd.backward(). If you indeed want the gradient for a non-leaf Tensor, use .retain_grad() on the non-leaf Tensor. If you access the non-leaf Tensor by mistake, make sure you access the leaf Tensor instead. See github.com/pytorch/pytorch/pull/30531 for more informations.\n",
      "  if sys.path[0] == '':\n",
      "/home/hwan/anaconda3/envs/torch1.7.1/lib/python3.7/site-packages/ipykernel_launcher.py:13: UserWarning: The .grad attribute of a Tensor that is not a leaf Tensor is being accessed. Its .grad attribute won't be populated during autograd.backward(). If you indeed want the gradient for a non-leaf Tensor, use .retain_grad() on the non-leaf Tensor. If you access the non-leaf Tensor by mistake, make sure you access the leaf Tensor instead. See github.com/pytorch/pytorch/pull/30531 for more informations.\n",
      "  del sys.path[0]\n"
     ]
    }
   ],
   "source": [
    "x = torch.randn(2, 2, requires_grad=True)\n",
    "\n",
    "y = x + 3\n",
    "z = (y * y).sum()\n",
    "z.backward()\n",
    "\n",
    "print(f'x = {x}')\n",
    "print(f'y = {y}')\n",
    "print(f'z = {z}')\n",
    "\n",
    "print(f'x grad = {x.grad}')\n",
    "print(f'y grad = {y.grad}')\n",
    "print(f'z grad = {z.grad}')"
   ]
  },
  {
   "cell_type": "markdown",
   "metadata": {},
   "source": [
    "위에서 볼 수 있다시피 `y, z`에는 실제 grad가 저장되지는 않음\n",
    "\n",
    "2) 또는 matrix의 `.backward()` 인자를 넣어주면 됨\n",
    "\n",
    "- `torch.Tensor.backward(gradient=None)`: Computes the gradient of current tensor w.r.t. graph leaves"
   ]
  },
  {
   "cell_type": "code",
   "execution_count": 10,
   "metadata": {},
   "outputs": [
    {
     "name": "stdout",
     "output_type": "stream",
     "text": [
      "tensor([[8.3303, 0.0103],\n",
      "        [1.1132, 3.2378]])\n"
     ]
    }
   ],
   "source": [
    "x = torch.randn(2, 2, requires_grad=True)\n",
    "\n",
    "y = x + 2\n",
    "\n",
    "z = (y * y)\n",
    "\n",
    "y.backward(z)\n",
    "\n",
    "print(x.grad)"
   ]
  },
  {
   "cell_type": "markdown",
   "metadata": {},
   "source": [
    "#### Partial Derivative\n",
    "\n",
    "$Q = 3a^3 - b^2$"
   ]
  },
  {
   "cell_type": "markdown",
   "metadata": {},
   "source": [
    "1) Q는 벡터이므로 `Q.backward()`에 `gradient` 인자를 전달해야한다\n",
    "\n",
    "2) 또는 Q.sum().backward()와 같이 Q를 scalar값으로 `aggregate`한 뒤 암시적으로 `backward()`를 호출\n"
   ]
  },
  {
   "cell_type": "code",
   "execution_count": 13,
   "metadata": {},
   "outputs": [
    {
     "name": "stdout",
     "output_type": "stream",
     "text": [
      "tensor([36., 81.]) tensor([24., 16.])\n"
     ]
    }
   ],
   "source": [
    "a = torch.tensor([2., 3.], requires_grad=True)\n",
    "b = torch.tensor([6., 4.], requires_grad=True)\n",
    "\n",
    "Q = 3*a**3 + 2 * b**2\n",
    "\n",
    "external_grad = torch.tensor([1., 1.])\n",
    "Q.backward(external_grad)\n",
    "\n",
    "print(a.grad, b.grad)"
   ]
  },
  {
   "cell_type": "code",
   "execution_count": 14,
   "metadata": {},
   "outputs": [
    {
     "name": "stdout",
     "output_type": "stream",
     "text": [
      "tensor([36., 81.]) tensor([24., 16.])\n"
     ]
    }
   ],
   "source": [
    "a = torch.tensor([2., 3.], requires_grad=True)\n",
    "b = torch.tensor([6., 4.], requires_grad=True)\n",
    "\n",
    "Q = 3*a**3 + 2 * b**2\n",
    "\n",
    "Q.sum().backward()\n",
    "print(a.grad, b.grad)"
   ]
  },
  {
   "cell_type": "markdown",
   "metadata": {},
   "source": [
    "#### Computational Graph\n",
    "- 개념적으로 `torch.autograd`는 어떤 tensor에 실행된 모든 연산들의 기록을 `Function` 객체로 구성된 DAG(Directed Acyclic Graph)에 저장한다.\n",
    "\n",
    "- DAG의 잎(leave)는 입력 tensor 이고, 뿌리(root)는 결과 tensor 임\n",
    "\n",
    "- Forward에서 `torch.autograd`가 하는 일\n",
    "    - 요청된 연산을 수행하여 결과 텐서를 계산\n",
    "    \n",
    "    - DAG에 연산의 grad_fn을 유지 함\n",
    "\n",
    "- Backward는 DAG의 root에서 `.backward()`가 호출될 때 시작함, 이 때 `torch.autograd`가 하는 일\n",
    "    - 각 `.grad_fn` 으로부터 변화도를 계산\n",
    "\n",
    "    - 각 텐서의 `.grad` 속성에 계산 결과를 쌓는다 (accumulate)\n",
    "\n",
    "    - chain rule을 사용하여 모든 leaf 텐서들까지 propagate 수행"
   ]
  },
  {
   "cell_type": "markdown",
   "metadata": {},
   "source": [
    "`torch.autograd`는 `requires_grad`라는 플래그가 `True`인 텐서들에 대해서 연산을 추적함\n",
    "\n",
    "따라서 derivative 계산이 필요없는 텐서는 속성값을 `False`로 설정해서 DAG에서 제외함\n",
    "\n",
    "또한 입력 텐서 중 하나라도 `requires_grad=True`이면 결과 텐서도 변화도를 갖게됨"
   ]
  },
  {
   "cell_type": "code",
   "execution_count": 16,
   "metadata": {},
   "outputs": [
    {
     "name": "stdout",
     "output_type": "stream",
     "text": [
      "False\n",
      "True\n"
     ]
    }
   ],
   "source": [
    "x = torch.randn(5, 5)\n",
    "y = torch.randn(5, 5)\n",
    "z = torch.randn(5, 5, requires_grad=True)\n",
    "\n",
    "a = x + y\n",
    "b = x + z\n",
    "\n",
    "print(a.requires_grad)\n",
    "print(b.requires_grad)"
   ]
  },
  {
   "cell_type": "markdown",
   "metadata": {},
   "source": [
    "Finetuning 할 때 모델의 파라미터를 고정 시키기 (파라미터들의 변화도를 필요없게 설정하여 DAG에서 제외시키므로서 `autograd`의 연산량을 줄임)"
   ]
  },
  {
   "cell_type": "code",
   "execution_count": 17,
   "metadata": {},
   "outputs": [
    {
     "name": "stderr",
     "output_type": "stream",
     "text": [
      "Downloading: \"https://download.pytorch.org/models/resnet18-5c106cde.pth\" to /home/hwan/.cache/torch/hub/checkpoints/resnet18-5c106cde.pth\n"
     ]
    },
    {
     "data": {
      "application/vnd.jupyter.widget-view+json": {
       "model_id": "1468f4d5cbc04a2b962f0b7108d9d78f",
       "version_major": 2,
       "version_minor": 0
      },
      "text/plain": [
       "  0%|          | 0.00/44.7M [00:00<?, ?B/s]"
      ]
     },
     "metadata": {},
     "output_type": "display_data"
    }
   ],
   "source": [
    "import torch.nn as nn \n",
    "import torch.optim as optim\n",
    "import torchvision\n",
    "\n",
    "model = torchvision.models.resnet18(pretrained=True)\n",
    "\n",
    "for param in model.parameters():\n",
    "    param.requires_grad = False"
   ]
  },
  {
   "cell_type": "code",
   "execution_count": 18,
   "metadata": {},
   "outputs": [
    {
     "data": {
      "text/plain": [
       "Linear(in_features=512, out_features=1000, bias=True)"
      ]
     },
     "execution_count": 18,
     "metadata": {},
     "output_type": "execute_result"
    }
   ],
   "source": [
    "model.fc"
   ]
  },
  {
   "cell_type": "markdown",
   "metadata": {},
   "source": [
    "Linear Probing을 위해 모델의 마지막 layer만 바꾼다고 가정"
   ]
  },
  {
   "cell_type": "code",
   "execution_count": 19,
   "metadata": {},
   "outputs": [],
   "source": [
    "model.fc = nn.Linear(512, 10)\n",
    "\n",
    "optimizer = optim.SGD(model.parameters(), lr=1e-4)"
   ]
  },
  {
   "cell_type": "markdown",
   "metadata": {},
   "source": [
    "Optimizer가 model의 모든 파라미터를 받지만, derivative를 계산하고, 파라미터를 update할 수 있는 부분은 fc 부분임"
   ]
  },
  {
   "cell_type": "markdown",
   "metadata": {},
   "source": [
    "#### Training, Eval\n",
    "\n",
    "`with torch.no_grad():`에서 x가 어떤 연산을 수행했을 때, `requires_grad = False`가 되는 것을 알 수 있음\n",
    "\n",
    "- `torch.no_grad()` -- Context-manager that disabled gradient calculations\n",
    "    - `torch.autograd`의 엔진이 꺼져버린다. = 앞으로 gradient의 자동 tracking을 하지 않겠다\n",
    "    \n",
    "    - 어차피 `loss.backward()`를 호출 안하고, backpropagation도 안하는데 굳이 gradient 계산을 안하게 하는 이유?\n",
    "\n",
    "    - 메모리 사용량을 줄이고 연산 속도를 높히려고\n",
    "\n",
    "- `model.eval()` -- Batch normalization, dropout과 같은 것들을 evaluation mode로 바꿔줌"
   ]
  },
  {
   "cell_type": "code",
   "execution_count": 22,
   "metadata": {},
   "outputs": [
    {
     "name": "stdout",
     "output_type": "stream",
     "text": [
      "True\n",
      "True\n",
      "False\n",
      "True\n"
     ]
    }
   ],
   "source": [
    "x = torch.tensor(1.0, requires_grad=True)\n",
    "\n",
    "print(x.requires_grad)\n",
    "\n",
    "with torch.no_grad():\n",
    "    print(x.requires_grad)\n",
    "    print((x + 3).requires_grad)\n",
    "\n",
    "print(x.requires_grad)"
   ]
  },
  {
   "cell_type": "markdown",
   "metadata": {},
   "source": [
    "### 여러가지 유용한 함수들\n",
    "- `torch.gather(input, dim, index)` : Gathers values along an axis specified by `dim`\n",
    "\n",
    "- `torch.tensor.gather(dim, index)`\n",
    "\n",
    "- `torch.tensor.expand(sizes)` : Returns a new view of the `self` tensor with singleton dimensions expanded to a larger size\n",
    "\n",
    "- `torch.tensor.repeat(sizes)` : Repeats this tensor along the specified dimensions / Unlike `expand()`, this function copies the tensor's data\n",
    "\n",
    "- `torch.topk(input, k, dim=None, largest=True, sorted=True)` : Returns the k largest elements of the given `input` tensor along a given dimension"
   ]
  }
 ],
 "metadata": {
  "kernelspec": {
   "display_name": "Python 3.7.13 ('torch1.7.1')",
   "language": "python",
   "name": "python3"
  },
  "language_info": {
   "codemirror_mode": {
    "name": "ipython",
    "version": 3
   },
   "file_extension": ".py",
   "mimetype": "text/x-python",
   "name": "python",
   "nbconvert_exporter": "python",
   "pygments_lexer": "ipython3",
   "version": "3.7.13"
  },
  "orig_nbformat": 4,
  "vscode": {
   "interpreter": {
    "hash": "b4a84903a2b3fdb7d367cfd9ea570be165ad361672f95a63c30b0740103c512e"
   }
  }
 },
 "nbformat": 4,
 "nbformat_minor": 2
}
