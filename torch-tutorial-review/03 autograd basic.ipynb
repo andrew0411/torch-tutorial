{
 "cells": [
  {
   "cell_type": "markdown",
   "metadata": {},
   "source": [
    "### Autograd 사용\n",
    "- 어떤 tensor가 학습에 필요한 tensor라면 `backpropagation`을 통해 gradient를 구해야 함\n",
    "\n",
    "- `tensor`의 gradient를 구하기 위한 조건\n",
    "\n",
    "    - `requires_grad = True` 로 설정되어 있어야함, default는 False\n",
    "    \n",
    "    - `backpropagation`을 시작하는 지점의 output은 `scalar` 형태   \n",
    "    \n",
    "- `tensor`의 gradient를 계산하기 위해서는 output 지점의 tensor에서 `.backward()` 함수를 호출하면 됨\n",
    "\n",
    "- gradient 값을 확인하려면 `requires_grad=True`로 생성한 tensor에 `.grad` 를 통해 확인할 수 있음"
   ]
  },
  {
   "cell_type": "markdown",
   "metadata": {},
   "source": [
    "### Autograd 개념"
   ]
  },
  {
   "cell_type": "markdown",
   "metadata": {},
   "source": [
    "`x`는 2 x 2 크기의 1로 구성된 tensor를 생성한 것이고\n",
    "\n",
    "`y`는 `requires_grad=True`로 설정하여 역전파 과정을 수행할 수 있게 됨"
   ]
  },
  {
   "cell_type": "code",
   "execution_count": 1,
   "metadata": {},
   "outputs": [
    {
     "name": "stdout",
     "output_type": "stream",
     "text": [
      "tensor([[1., 1.],\n",
      "        [1., 1.]])\n",
      "tensor([[1., 1.],\n",
      "        [1., 1.]], requires_grad=True)\n"
     ]
    }
   ],
   "source": [
    "import torch\n",
    "\n",
    "x = torch.ones(2, 2)\n",
    "print(x)\n",
    "\n",
    "y = torch.ones(2, 2, requires_grad=True)\n",
    "print(y)"
   ]
  },
  {
   "cell_type": "markdown",
   "metadata": {},
   "source": [
    "앞서 생성한 tensor에 `+3`이라는 연산을 수행했음\n",
    "\n",
    "연산을 수행한 `y`에 `grad_fn`이 `<AddBackward0>`를 담고 있음\n",
    "\n",
    "`grad_fn`은 해당 텐서가 어떤 연산을 수행했는지와 관련된 정보를 가지고 있고, 이 정보를 추후에 역전파에 사용함"
   ]
  },
  {
   "cell_type": "code",
   "execution_count": 2,
   "metadata": {},
   "outputs": [
    {
     "name": "stdout",
     "output_type": "stream",
     "text": [
      "x = tensor([[1., 1.],\n",
      "        [1., 1.]])\n",
      "x1 = tensor([[4., 4.],\n",
      "        [4., 4.]])\n",
      "y = tensor([[1., 1.],\n",
      "        [1., 1.]], requires_grad=True)\n",
      "y1 = tensor([[4., 4.],\n",
      "        [4., 4.]], grad_fn=<AddBackward0>)\n"
     ]
    }
   ],
   "source": [
    "print(f'x = {x}')\n",
    "\n",
    "x1 = x + 3\n",
    "print(f'x1 = {x1}')\n",
    "\n",
    "print(f'y = {y}')\n",
    "\n",
    "y1 = y + 3\n",
    "print(f'y1 = {y1}')"
   ]
  },
  {
   "cell_type": "markdown",
   "metadata": {},
   "source": [
    "사칙연산을 수행한 후에 역전파에 활용할 정보를 저장하는 `grad_fn`을 보면 각각\n",
    "\n",
    "`AddBackward0`, `SubBackward0`, `MulBackward0`, `DivBackward0` 등이 저장되어 있음"
   ]
  },
  {
   "cell_type": "code",
   "execution_count": 6,
   "metadata": {},
   "outputs": [
    {
     "name": "stdout",
     "output_type": "stream",
     "text": [
      "x = tensor([[1., 1.],\n",
      "        [1., 1.]], requires_grad=True)\n",
      "x1 = tensor([[3., 3.],\n",
      "        [3., 3.]], grad_fn=<AddBackward0>)\n",
      "x2 = tensor([[-3., -3.],\n",
      "        [-3., -3.]], grad_fn=<SubBackward0>)\n",
      "x3 = tensor([[1.2000, 1.2000],\n",
      "        [1.2000, 1.2000]], grad_fn=<MulBackward0>)\n",
      "x4 = tensor([[2., 2.],\n",
      "        [2., 2.]], grad_fn=<DivBackward0>)\n"
     ]
    }
   ],
   "source": [
    "x = torch.ones(2, 2, requires_grad=True)\n",
    "print(f'x = {x}')\n",
    "x1 = x + 2\n",
    "print(f'x1 = {x1}')\n",
    "x2 = x - 4\n",
    "print(f'x2 = {x2}')\n",
    "x3 = x * 1.2\n",
    "print(f'x3 = {x3}')\n",
    "x4 = x / 0.5\n",
    "print(f'x4 = {x4}')"
   ]
  },
  {
   "cell_type": "markdown",
   "metadata": {},
   "source": [
    "원래 `reqiures_grad=False`로 default가 되어있는 tensor에 속성을 추가할 때는\n",
    "\n",
    "`x.requires_grad_(True)` 로 앞으로는 연산 정보를 저장하게 설정해줄 수 있음\n",
    "\n",
    "하지만, 그 전에 x가 거쳐왔던 연산들은 저장을 하고 있지 않았기 때문에\n",
    "\n",
    "그 전의 연산들은 없는 상태로 인식됨"
   ]
  },
  {
   "cell_type": "code",
   "execution_count": 7,
   "metadata": {},
   "outputs": [
    {
     "name": "stdout",
     "output_type": "stream",
     "text": [
      "x = tensor([[1., 1.],\n",
      "        [1., 1.]])\n",
      "x1 = tensor([[4., 4.],\n",
      "        [4., 4.]])\n",
      "x2 = tensor([[2., 2.],\n",
      "        [2., 2.]])\n",
      "x1 = tensor([[4., 4.],\n",
      "        [4., 4.]], requires_grad=True)\n",
      "x2 = tensor([[2., 2.],\n",
      "        [2., 2.]], requires_grad=True)\n"
     ]
    }
   ],
   "source": [
    "x = torch.ones(2, 2)\n",
    "x1 = x + 3\n",
    "x2 = x1 * 0.5\n",
    "\n",
    "print(f'x = {x}')\n",
    "print(f'x1 = {x1}')\n",
    "print(f'x2 = {x2}')\n",
    "\n",
    "x1.requires_grad_(True)\n",
    "x2.requires_grad_(True)\n",
    "\n",
    "print(f'x1 = {x1}')\n",
    "print(f'x2 = {x2}')"
   ]
  },
  {
   "cell_type": "markdown",
   "metadata": {},
   "source": [
    "#### Derivative"
   ]
  }
 ],
 "metadata": {
  "kernelspec": {
   "display_name": "Python 3.7.13 ('torch1.7.1')",
   "language": "python",
   "name": "python3"
  },
  "language_info": {
   "codemirror_mode": {
    "name": "ipython",
    "version": 3
   },
   "file_extension": ".py",
   "mimetype": "text/x-python",
   "name": "python",
   "nbconvert_exporter": "python",
   "pygments_lexer": "ipython3",
   "version": "3.7.13"
  },
  "orig_nbformat": 4,
  "vscode": {
   "interpreter": {
    "hash": "b4a84903a2b3fdb7d367cfd9ea570be165ad361672f95a63c30b0740103c512e"
   }
  }
 },
 "nbformat": 4,
 "nbformat_minor": 2
}
