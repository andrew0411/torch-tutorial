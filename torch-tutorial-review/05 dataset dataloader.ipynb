{
 "cells": [
  {
   "cell_type": "markdown",
   "metadata": {},
   "source": [
    "### Dataset"
   ]
  },
  {
   "cell_type": "code",
   "execution_count": 1,
   "metadata": {},
   "outputs": [],
   "source": [
    "from torch.utils.data import Dataset, DataLoader"
   ]
  },
  {
   "cell_type": "markdown",
   "metadata": {},
   "source": [
    "`torch.utils.data.Dataset`\n",
    "- An abstract class that represent a **Dataset**\n",
    "\n",
    "- All subclass should overwrite `__getitem__()` and optionally overwrite `__len__()`\n",
    "\n",
    "`torch.utils.data.IterableDataset`\n",
    "- An iterable Dataset\n",
    "\n",
    "- All sub classes should overwrite `__iter__()`\n",
    "\n",
    "`torch.utils.data.Subset(dataset, indices)`\n",
    "- Subset of a dataset at specified indices\n",
    "\n",
    "` torch.utils.data.TensorDataset(*tensors)`\n",
    "- Dataset wrapping tensors"
   ]
  },
  {
   "cell_type": "markdown",
   "metadata": {},
   "source": [
    "### DataLoader"
   ]
  },
  {
   "cell_type": "markdown",
   "metadata": {},
   "source": [
    "`torch.utils.data.DataLoader`\n",
    "- dataset (Dataset) : dataset from which to load the data\n",
    "\n",
    "- batch_size (int, optional) : how many samples per batch to load (default = 1)\n",
    "\n",
    "- shuffle (bool, optional) : set to `True` to have the data reshuffled at every epoch (default = False)\n",
    "\n",
    "- sampler (Sampler or iterable, optional) : defines the strategy to draw samples from the dataset\n",
    "\n",
    "- batch_sampler (Sampler or iterable, optional) : like `sampler`, but returns a batch of indices at a time\n",
    "\n",
    "- num_workers (int, optional) : how many subprocesses to use for data loading, 0 means that the data will be loaded in the main process\n",
    "\n",
    "- collate_fn (callable, optional) : merges a list of samples to form a mini-batch of Tensors\n",
    "\n",
    "- pin_memory (bool, optional) : if `True`, the data loader will copy Tensors into CUDA pinned memory before returning them\n",
    "\n",
    "- drop_last (bool, optional) : set to `True` to drop the last incomplete batch\n",
    "\n",
    "- worker_init_fn (callable, optional) : if not `None`, this will be called on each worker subprocess with the worker id as iput after seeding and before data loading"
   ]
  },
  {
   "cell_type": "markdown",
   "metadata": {},
   "source": [
    "실질적으로 알면 좋은 것들은 `num_workers`, `pin_memory`"
   ]
  }
 ],
 "metadata": {
  "kernelspec": {
   "display_name": "Python 3.7.13 ('torch1.7.1')",
   "language": "python",
   "name": "python3"
  },
  "language_info": {
   "codemirror_mode": {
    "name": "ipython",
    "version": 3
   },
   "file_extension": ".py",
   "mimetype": "text/x-python",
   "name": "python",
   "nbconvert_exporter": "python",
   "pygments_lexer": "ipython3",
   "version": "3.7.13"
  },
  "orig_nbformat": 4,
  "vscode": {
   "interpreter": {
    "hash": "b4a84903a2b3fdb7d367cfd9ea570be165ad361672f95a63c30b0740103c512e"
   }
  }
 },
 "nbformat": 4,
 "nbformat_minor": 2
}
