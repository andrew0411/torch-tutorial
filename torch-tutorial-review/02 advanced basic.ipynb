{
 "cells": [
  {
   "cell_type": "markdown",
   "metadata": {},
   "source": [
    "### Tensor 생성\n",
    "- 자주 사용하는 함수가 `rand`, `zeros`, `ones`, 각 함수의 첫 인자는 dimension임\n",
    "\n",
    "- Dimension 적을 때 tuple로 해도 되고 depackage된 상태로 해도 됨"
   ]
  },
  {
   "cell_type": "markdown",
   "metadata": {},
   "source": [
    "- `torch.zeros` : returns a tensor filled with the scalar value 0, with the shape defined by the variable argument `size`\n",
    "\n",
    "- `torch.zeros_like` : returns a tensor filled with the scalar value 0, with the same size as argument `input`\n",
    "\n",
    "- `torch.ones` : returns a tensor filled with the scalar value 1, with the shape defined by the variable argument `size`\n",
    "\n",
    "- `torch.arange` : returns a 1D tensor of size (end - start) / step with values from the interval [start, end)\n",
    "\n",
    "- `torch.linspace` : `np.linspace`랑 동일\n",
    "\n",
    "- `torch.eye` : returns a 2D tensor with ones on the diagonal and zeros elsewhere\n",
    "\n",
    "- `torch.empty` : returns a tensor filled with uninitialized data\n",
    "\n",
    "- `torch.full` : returns a tensor of `size` filled with `fill_value`\n",
    "\n",
    "- `torch.permute` : returns a view of the original tensor `input` with its dimensions permuted\n",
    "\n",
    "- `torch.rand` : returns a tensor filled with random numbers from a uniform distribution on the interval [0, 1)\n",
    "\n",
    "- `torch.randint` : returns a tensor filled with random integers generated uniformly between [`low` and `high`)\n",
    "\n",
    "- `torch.randn` : returns a tensor filled with random numbers from a standard normal distribution\n",
    "\n",
    "- `torch.randperm` : returns a random permutation of integers from 0 to n - 1"
   ]
  },
  {
   "cell_type": "code",
   "execution_count": 15,
   "metadata": {},
   "outputs": [
    {
     "data": {
      "text/plain": [
       "tensor([[0.0451, 0.8324, 0.2319, 0.9732],\n",
       "        [0.9537, 0.0203, 0.4733, 0.1110],\n",
       "        [0.1005, 0.9470, 0.2391, 0.9604]])"
      ]
     },
     "execution_count": 15,
     "metadata": {},
     "output_type": "execute_result"
    }
   ],
   "source": [
    "import torch\n",
    "import numpy as np\n",
    "\n",
    "x = torch.rand((3, 4))\n",
    "x"
   ]
  },
  {
   "cell_type": "code",
   "execution_count": 6,
   "metadata": {},
   "outputs": [
    {
     "data": {
      "text/plain": [
       "tensor([[0., 0., 0., 0.],\n",
       "        [0., 0., 0., 0.]])"
      ]
     },
     "execution_count": 6,
     "metadata": {},
     "output_type": "execute_result"
    }
   ],
   "source": [
    "ex = torch.zeros(2, 4)\n",
    "ex"
   ]
  },
  {
   "cell_type": "code",
   "execution_count": 7,
   "metadata": {},
   "outputs": [
    {
     "data": {
      "text/plain": [
       "tensor([[0., 0., 0., 0.],\n",
       "        [0., 0., 0., 0.],\n",
       "        [0., 0., 0., 0.]])"
      ]
     },
     "execution_count": 7,
     "metadata": {},
     "output_type": "execute_result"
    }
   ],
   "source": [
    "ex = torch.zeros_like(x)\n",
    "ex"
   ]
  },
  {
   "cell_type": "code",
   "execution_count": 10,
   "metadata": {},
   "outputs": [
    {
     "data": {
      "text/plain": [
       "tensor([0, 1, 2, 3, 4, 5, 6, 7, 8, 9])"
      ]
     },
     "execution_count": 10,
     "metadata": {},
     "output_type": "execute_result"
    }
   ],
   "source": [
    "ex = torch.arange(0, 10, 1)\n",
    "ex"
   ]
  },
  {
   "cell_type": "code",
   "execution_count": 14,
   "metadata": {},
   "outputs": [
    {
     "data": {
      "text/plain": [
       "tensor([ 0.0000,  1.1111,  2.2222,  3.3333,  4.4444,  5.5556,  6.6667,  7.7778,\n",
       "         8.8889, 10.0000])"
      ]
     },
     "execution_count": 14,
     "metadata": {},
     "output_type": "execute_result"
    }
   ],
   "source": [
    "ex = torch.linspace(0, 10, 10)\n",
    "ex"
   ]
  },
  {
   "cell_type": "code",
   "execution_count": 16,
   "metadata": {},
   "outputs": [
    {
     "data": {
      "text/plain": [
       "array([ 0.        ,  1.11111111,  2.22222222,  3.33333333,  4.44444444,\n",
       "        5.55555556,  6.66666667,  7.77777778,  8.88888889, 10.        ])"
      ]
     },
     "execution_count": 16,
     "metadata": {},
     "output_type": "execute_result"
    }
   ],
   "source": [
    "ex = np.linspace(0, 10, 10)\n",
    "ex"
   ]
  },
  {
   "cell_type": "code",
   "execution_count": 17,
   "metadata": {},
   "outputs": [
    {
     "data": {
      "text/plain": [
       "tensor([[1., 0., 0.],\n",
       "        [0., 1., 0.],\n",
       "        [0., 0., 1.]])"
      ]
     },
     "execution_count": 17,
     "metadata": {},
     "output_type": "execute_result"
    }
   ],
   "source": [
    "ex = torch.eye(3)\n",
    "ex"
   ]
  },
  {
   "cell_type": "code",
   "execution_count": 18,
   "metadata": {},
   "outputs": [
    {
     "data": {
      "text/plain": [
       "tensor([[10, 10],\n",
       "        [10, 10]])"
      ]
     },
     "execution_count": 18,
     "metadata": {},
     "output_type": "execute_result"
    }
   ],
   "source": [
    "ex = torch.full((2, 2), 10)\n",
    "ex"
   ]
  },
  {
   "cell_type": "code",
   "execution_count": 19,
   "metadata": {},
   "outputs": [
    {
     "data": {
      "text/plain": [
       "tensor([4, 1, 3, 0, 2])"
      ]
     },
     "execution_count": 19,
     "metadata": {},
     "output_type": "execute_result"
    }
   ],
   "source": [
    "ex = torch.randperm(5)\n",
    "ex"
   ]
  },
  {
   "cell_type": "markdown",
   "metadata": {},
   "source": [
    "### Tensor 데이터 타입\n",
    "- `torch.Tensor` vs `torch.tensor` : `.tensor` infers the `dtype` automatically while `.Tensor` returns a `torch.FloatTensor`\n",
    "\n",
    "- `torch.Tensor` vs `torch.cuda.Tensor` : `.Tensor` occupies CPU memory while `.cuda.Tensor` occupies GPU memory"
   ]
  },
  {
   "cell_type": "code",
   "execution_count": 20,
   "metadata": {},
   "outputs": [
    {
     "data": {
      "text/plain": [
       "tensor([[0., 0., 0.],\n",
       "        [0., 0., 0.]], device='cuda:0')"
      ]
     },
     "execution_count": 20,
     "metadata": {},
     "output_type": "execute_result"
    }
   ],
   "source": [
    "# size가 2 x 3 인 Float type 텐서 생성\n",
    "\n",
    "torch.cuda.FloatTensor(2, 3)"
   ]
  },
  {
   "cell_type": "code",
   "execution_count": 21,
   "metadata": {},
   "outputs": [
    {
     "data": {
      "text/plain": [
       "tensor([2., 3.], device='cuda:0')"
      ]
     },
     "execution_count": 21,
     "metadata": {},
     "output_type": "execute_result"
    }
   ],
   "source": [
    "# 특정 list를 Float type tensor로 변환\n",
    "\n",
    "torch.cuda.FloatTensor([2, 3])"
   ]
  },
  {
   "cell_type": "code",
   "execution_count": 22,
   "metadata": {},
   "outputs": [
    {
     "data": {
      "text/plain": [
       "tensor([2, 3], device='cuda:0', dtype=torch.int32)"
      ]
     },
     "execution_count": 22,
     "metadata": {},
     "output_type": "execute_result"
    }
   ],
   "source": [
    "# dtype 형 변환\n",
    "\n",
    "x = torch.cuda.FloatTensor([2, 3])\n",
    "x.type_as(torch.cuda.IntTensor())"
   ]
  },
  {
   "cell_type": "code",
   "execution_count": 25,
   "metadata": {},
   "outputs": [
    {
     "data": {
      "text/plain": [
       "tensor([2, 3], dtype=torch.int32)"
      ]
     },
     "execution_count": 25,
     "metadata": {},
     "output_type": "execute_result"
    }
   ],
   "source": [
    "# CPU 텐서로도 형 변환이 자유로운 듯\n",
    "\n",
    "x = torch.cuda.FloatTensor([2, 3])\n",
    "x_cpu = x.type_as(torch.IntTensor())\n",
    "x_cpu"
   ]
  },
  {
   "cell_type": "markdown",
   "metadata": {},
   "source": [
    "### Numpy <-> Tensor"
   ]
  },
  {
   "cell_type": "code",
   "execution_count": 28,
   "metadata": {},
   "outputs": [
    {
     "data": {
      "text/plain": [
       "array([[1, 2, 3],\n",
       "       [4, 5, 6]])"
      ]
     },
     "execution_count": 28,
     "metadata": {},
     "output_type": "execute_result"
    }
   ],
   "source": [
    "x_np = np.ndarray(shape=(2, 3), dtype=int, buffer=np.array([1, 2, 3, 4, 5, 6]))\n",
    "x_np"
   ]
  },
  {
   "cell_type": "code",
   "execution_count": 29,
   "metadata": {},
   "outputs": [
    {
     "data": {
      "text/plain": [
       "tensor([[1, 2, 3],\n",
       "        [4, 5, 6]])"
      ]
     },
     "execution_count": 29,
     "metadata": {},
     "output_type": "execute_result"
    }
   ],
   "source": [
    "x_ts = torch.from_numpy(x_np)\n",
    "x_ts"
   ]
  },
  {
   "cell_type": "code",
   "execution_count": 31,
   "metadata": {},
   "outputs": [
    {
     "data": {
      "text/plain": [
       "tensor([[0, 2, 3],\n",
       "        [4, 5, 6]])"
      ]
     },
     "execution_count": 31,
     "metadata": {},
     "output_type": "execute_result"
    }
   ],
   "source": [
    "x_ts[0, 0] = 0\n",
    "x_ts"
   ]
  },
  {
   "cell_type": "code",
   "execution_count": 32,
   "metadata": {},
   "outputs": [
    {
     "data": {
      "text/plain": [
       "array([[0, 2, 3],\n",
       "       [4, 5, 6]])"
      ]
     },
     "execution_count": 32,
     "metadata": {},
     "output_type": "execute_result"
    }
   ],
   "source": [
    "x_np"
   ]
  },
  {
   "cell_type": "markdown",
   "metadata": {},
   "source": [
    "- 위에서 보면 알 수 있듯이 tensor로 변환한 뒤에 value를 바꾸면 numpy array도 value가 바뀐다는 것을 볼 수 있음"
   ]
  },
  {
   "cell_type": "code",
   "execution_count": 33,
   "metadata": {},
   "outputs": [
    {
     "data": {
      "text/plain": [
       "array([[0, 2, 3],\n",
       "       [4, 5, 6]])"
      ]
     },
     "execution_count": 33,
     "metadata": {},
     "output_type": "execute_result"
    }
   ],
   "source": [
    "x_np_ = x_ts.numpy()\n",
    "x_np_"
   ]
  },
  {
   "cell_type": "code",
   "execution_count": 34,
   "metadata": {},
   "outputs": [
    {
     "data": {
      "text/plain": [
       "array([[1, 2, 3],\n",
       "       [4, 5, 6]])"
      ]
     },
     "execution_count": 34,
     "metadata": {},
     "output_type": "execute_result"
    }
   ],
   "source": [
    "x_np_[0, 0] = 1\n",
    "x_np_"
   ]
  },
  {
   "cell_type": "code",
   "execution_count": 35,
   "metadata": {},
   "outputs": [
    {
     "data": {
      "text/plain": [
       "tensor([[1, 2, 3],\n",
       "        [4, 5, 6]])"
      ]
     },
     "execution_count": 35,
     "metadata": {},
     "output_type": "execute_result"
    }
   ],
   "source": [
    "x_ts"
   ]
  },
  {
   "cell_type": "code",
   "execution_count": 36,
   "metadata": {},
   "outputs": [
    {
     "data": {
      "text/plain": [
       "array([[1, 2, 3],\n",
       "       [4, 5, 6]])"
      ]
     },
     "execution_count": 36,
     "metadata": {},
     "output_type": "execute_result"
    }
   ],
   "source": [
    "x_np"
   ]
  },
  {
   "cell_type": "code",
   "execution_count": 39,
   "metadata": {},
   "outputs": [
    {
     "name": "stdout",
     "output_type": "stream",
     "text": [
      "Numpy : 139912717178416 | Tensor : 139912716822480 | Numpy from Tensor : 139912717279568\n"
     ]
    }
   ],
   "source": [
    "print(f'Numpy : {id(x_np)} | Tensor : {id(x_ts)} | Numpy from Tensor : {id(x_np_)}')"
   ]
  },
  {
   "cell_type": "markdown",
   "metadata": {},
   "source": [
    "- 위에서 보면 알 수 있다시피 numpy array로 부터 바뀐 tensor를 `.numpy()`를 통해 변환을 해주고 값을 바꿔도 모든 value들이 바뀐다는 것을 알 수 있음"
   ]
  },
  {
   "cell_type": "markdown",
   "metadata": {},
   "source": [
    "### CPU tensor <-> GPU tensor\n",
    "- `torch.Tensor.cuda()` : Returns a copy of the object in CUDA memory\n",
    "\n",
    "- `torch.Tensor.cpu()` : Returns a copy of the object in CPU memory"
   ]
  },
  {
   "cell_type": "code",
   "execution_count": 40,
   "metadata": {},
   "outputs": [
    {
     "name": "stdout",
     "output_type": "stream",
     "text": [
      "tensor([[1., 2., 3.],\n",
      "        [4., 5., 6.]])\n",
      "tensor([[1., 2., 3.],\n",
      "        [4., 5., 6.]], device='cuda:0')\n"
     ]
    }
   ],
   "source": [
    "x = torch.Tensor([\n",
    "    [1, 2, 3], [4, 5, 6]\n",
    "    ])\n",
    "\n",
    "print(x)\n",
    "x_gpu = x.cuda()\n",
    "\n",
    "print(x_gpu)\n"
   ]
  },
  {
   "cell_type": "code",
   "execution_count": 41,
   "metadata": {},
   "outputs": [
    {
     "name": "stdout",
     "output_type": "stream",
     "text": [
      "tensor([[10.,  2.,  3.],\n",
      "        [ 4.,  5.,  6.]])\n",
      "tensor([[1., 2., 3.],\n",
      "        [4., 5., 6.]], device='cuda:0')\n"
     ]
    }
   ],
   "source": [
    "# x 값 변경\n",
    "\n",
    "x[0, 0] = 10\n",
    "print(x)\n",
    "print(x_gpu)"
   ]
  },
  {
   "cell_type": "code",
   "execution_count": 42,
   "metadata": {},
   "outputs": [
    {
     "name": "stdout",
     "output_type": "stream",
     "text": [
      "tensor([[1., 2., 3.],\n",
      "        [4., 5., 6.]])\n",
      "tensor([[1., 2., 3.],\n",
      "        [4., 5., 6.]], device='cuda:0')\n"
     ]
    }
   ],
   "source": [
    "x_cpu = x_gpu.cpu()\n",
    "print(x_cpu)\n",
    "print(x_gpu)"
   ]
  },
  {
   "cell_type": "code",
   "execution_count": 43,
   "metadata": {},
   "outputs": [
    {
     "name": "stdout",
     "output_type": "stream",
     "text": [
      "tensor([[1., 2., 3.],\n",
      "        [4., 5., 6.]])\n",
      "tensor([[9., 2., 3.],\n",
      "        [4., 5., 6.]], device='cuda:0')\n"
     ]
    }
   ],
   "source": [
    "x_gpu[0, 0] = 9\n",
    "print(x_cpu)\n",
    "print(x_gpu)"
   ]
  },
  {
   "cell_type": "markdown",
   "metadata": {},
   "source": [
    "- 위에서 볼 수 있다시피 `.cuda()`와 `.cpu()`는 object와 동일한 value를 갖는 새로운 텐서를 gpu 또는 cpu에 새롭게 매모리를 할당해줌\n",
    "\n",
    "- 따라서, original object의 값이 변해도 gpu 또는 cpu로 옮겨진 tensor의 값은 변하지 않음"
   ]
  },
  {
   "cell_type": "markdown",
   "metadata": {},
   "source": [
    "### Tensor 사이즈 확인\n",
    "- `torch.Tensor.size(dim=None)` : Returns the size of the self tensor"
   ]
  },
  {
   "cell_type": "code",
   "execution_count": 44,
   "metadata": {},
   "outputs": [
    {
     "name": "stdout",
     "output_type": "stream",
     "text": [
      "torch.Size([10, 3, 3])\n",
      "10\n",
      "3\n",
      "3\n"
     ]
    }
   ],
   "source": [
    "x = torch.cuda.FloatTensor(10, 3, 3)\n",
    "print(x.size())\n",
    "print(x.size(dim=0))\n",
    "print(x.size(dim=1))\n",
    "print(x.size(dim=2))"
   ]
  },
  {
   "cell_type": "markdown",
   "metadata": {},
   "source": [
    "### Indexing, Masking\n",
    "- Indexing을 해주는 `torch.index_select()` 가 있긴 하지만 불편함\n",
    "\n",
    "- Masking은 `torch.masked_select(input, mask)`를 통해서 하고, BERT 같은데서 쓰임"
   ]
  },
  {
   "cell_type": "code",
   "execution_count": 45,
   "metadata": {},
   "outputs": [
    {
     "name": "stdout",
     "output_type": "stream",
     "text": [
      "tensor([[0.0882, 0.3231, 0.7715],\n",
      "        [0.2158, 0.0334, 0.8595],\n",
      "        [0.6967, 0.0745, 0.3257],\n",
      "        [0.6830, 0.5659, 0.7472]])\n"
     ]
    },
    {
     "data": {
      "text/plain": [
       "tensor([[0.0882, 0.3231, 0.7715],\n",
       "        [0.6967, 0.0745, 0.3257]])"
      ]
     },
     "execution_count": 45,
     "metadata": {},
     "output_type": "execute_result"
    }
   ],
   "source": [
    "x = torch.rand(4, 3)\n",
    "print(x)\n",
    "\n",
    "torch.index_select(x, 0, torch.LongTensor([0, 2])) \n",
    "# x에서 dimension=0 방향으로 첫번째와 두번째를 선택\n",
    "# python에서 x[0, :]이랑 x[2, :] 뽑는 것과 동일"
   ]
  },
  {
   "cell_type": "code",
   "execution_count": 52,
   "metadata": {},
   "outputs": [
    {
     "name": "stdout",
     "output_type": "stream",
     "text": [
      "tensor([[0.0882, 0.3231, 0.7715],\n",
      "        [0.2158, 0.0334, 0.8595],\n",
      "        [0.6967, 0.0745, 0.3257],\n",
      "        [0.6830, 0.5659, 0.7472]])\n",
      "tensor([0.0882, 0.2158, 0.6967, 0.6830])\n",
      "tensor([0.0882, 0.3231, 0.7715])\n",
      "tensor([[0.0882, 0.3231],\n",
      "        [0.2158, 0.0334],\n",
      "        [0.6967, 0.0745]])\n"
     ]
    }
   ],
   "source": [
    "print(x)\n",
    "print(x[:, 0])\n",
    "print(x[0, :])\n",
    "print(x[0:3, 0:2])"
   ]
  },
  {
   "cell_type": "markdown",
   "metadata": {},
   "source": [
    "- `torch.masked_select()` : Returns a new 1D tensor which indices the input tensor according to the boolean mask"
   ]
  },
  {
   "cell_type": "code",
   "execution_count": 54,
   "metadata": {},
   "outputs": [
    {
     "name": "stdout",
     "output_type": "stream",
     "text": [
      "tensor([[ 0.5593,  0.6676,  1.7465],\n",
      "        [-1.8597, -1.3053, -0.3348]])\n"
     ]
    },
    {
     "data": {
      "text/plain": [
       "tensor([ 1.7465, -1.3053])"
      ]
     },
     "execution_count": 54,
     "metadata": {},
     "output_type": "execute_result"
    }
   ],
   "source": [
    "x = torch.randn(2, 3)\n",
    "print(x)\n",
    "mask = torch.BoolTensor([[0, 0, 1], [0, 1, 0]])\n",
    "torch.masked_select(x, mask)"
   ]
  },
  {
   "cell_type": "markdown",
   "metadata": {},
   "source": [
    "### Join 기능\n",
    "- `torch.cat(tensors, dim)` : Concatenate the given sequence of tensors in the given dimension\n",
    "\n",
    "- `torch.stack(tensors, dim)` : Concatenates a sequence of tensors along a new dimension\n",
    "\n",
    "- `torch.dstack(tensors)` : Stack tensors in sequence depthwise\n",
    "\n",
    "- `torch.hstack(tensors)` : Stack tensors in sequence horizontally (column-wise)\n",
    "\n",
    "- `torch.vstack(tensors)` : Stack tensors in sequence vertically (row-wise)"
   ]
  },
  {
   "cell_type": "code",
   "execution_count": null,
   "metadata": {},
   "outputs": [],
   "source": [
    "x = torch.cuda.FloatTensor([\n",
    "    [1, 2, 3], [4, 5, 6]\n",
    "])\n",
    "y = torch.cuda.FloatTensor([\n",
    "    [-1, -2, -3], [-4, -5, -6]\n",
    "])"
   ]
  }
 ],
 "metadata": {
  "kernelspec": {
   "display_name": "Python 3.7.13 ('torch1.7.1')",
   "language": "python",
   "name": "python3"
  },
  "language_info": {
   "codemirror_mode": {
    "name": "ipython",
    "version": 3
   },
   "file_extension": ".py",
   "mimetype": "text/x-python",
   "name": "python",
   "nbconvert_exporter": "python",
   "pygments_lexer": "ipython3",
   "version": "3.7.13"
  },
  "orig_nbformat": 4,
  "vscode": {
   "interpreter": {
    "hash": "b4a84903a2b3fdb7d367cfd9ea570be165ad361672f95a63c30b0740103c512e"
   }
  }
 },
 "nbformat": 4,
 "nbformat_minor": 2
}
