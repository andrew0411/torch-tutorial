{
 "cells": [
  {
   "cell_type": "markdown",
   "metadata": {},
   "source": [
    "### Pytorch에서의 실험 재현 (reproducible)을 위해 고려해야할 randomness 제어"
   ]
  },
  {
   "cell_type": "markdown",
   "metadata": {},
   "source": [
    "### 1. Pytorch Randomness\n",
    "- 우선 나는 pytorch 1.7.1을 사용하므로 해당 문서를 참고함 (https://pytorch.org/docs/1.7.1/notes/randomness.html?highlight=randomness)\n",
    "\n",
    "- `torch.manual_seed(seed)` : to seed the RNG (Random Number Generator) for all devices (both CPU and CUDA)\n",
    "\n",
    "- 원래는 `torch.backends.cudnn.determinisitic = True` 또는 `torch.backends.cudnn.benchmark = False` 이런식으로 제어.\n",
    "\n",
    "- torch 1.7 version 부터는 `torch.set_deterministic(bool)` 이 만들어짐"
   ]
  },
  {
   "cell_type": "code",
   "execution_count": 1,
   "metadata": {},
   "outputs": [
    {
     "name": "stdout",
     "output_type": "stream",
     "text": [
      "1.7.1\n"
     ]
    }
   ],
   "source": [
    "import torch\n",
    "print(torch.__version__)"
   ]
  },
  {
   "cell_type": "code",
   "execution_count": 2,
   "metadata": {},
   "outputs": [],
   "source": [
    "torch.backends.cudnn.deterministic = True\n",
    "torch.backends.cudnn.benchmark = False"
   ]
  },
  {
   "cell_type": "code",
   "execution_count": 4,
   "metadata": {},
   "outputs": [
    {
     "name": "stderr",
     "output_type": "stream",
     "text": [
      "[W Context.cpp:69] Warning: torch.set_deterministic is in beta, and its design and  functionality may change in the future. (function operator())\n"
     ]
    }
   ],
   "source": [
    "torch.manual_seed(0)\n",
    "torch.set_deterministic(True)"
   ]
  },
  {
   "cell_type": "markdown",
   "metadata": {},
   "source": [
    "### 2. CuDNN\n",
    "- CUDA library인데 cudnn 연산을 deterministic 하게 하면 nondeterministic모다 연산 처리의 속도가 감소됨\n",
    "\n",
    "- 애초에 nondeterministic 한 operation 들은 (ex. `torch.Tensor.index_add_()`, `torch.Tensor.scatter_add_()`, ...) error message를 내보냄"
   ]
  },
  {
   "cell_type": "markdown",
   "metadata": {},
   "source": [
    "### 3. Numpy\n",
    "- numpy가 c로 되어있어서 굉장히 빠른 수학 연산을 제공하는 경우가 많아서 자주 쓰임\n",
    "\n",
    "- `np.random.seed(seed)` 로 numpy operator를 deterministic하게 만들 수 있음"
   ]
  },
  {
   "cell_type": "code",
   "execution_count": 5,
   "metadata": {},
   "outputs": [],
   "source": [
    "import numpy as np\n",
    "np.random.seed(0)"
   ]
  },
  {
   "cell_type": "markdown",
   "metadata": {},
   "source": [
    "### 4. torchvision.transforms\n",
    "- torchvision의 transform에는 `RandomCrop()`, `RandomHorizontalFlip()` 등과 같은 randomness가 존재하는 함수가 있음\n",
    "\n",
    "- 이러한 operator는 torch, numpy, cudnn이 아닌 python의 내부 random 라이브러리에 의해 결정됨\n",
    "\n",
    "- `random.seed(seed)` 로 파이썬 randomness 제어"
   ]
  },
  {
   "cell_type": "code",
   "execution_count": 6,
   "metadata": {},
   "outputs": [],
   "source": [
    "import random\n",
    "random.seed(0)"
   ]
  },
  {
   "cell_type": "markdown",
   "metadata": {},
   "source": [
    "### 5. Others\n",
    "- 이것 외에도 torch.cuda 에서 RNG를 제어해주는 방법은 많음 (참고 : https://pytorch.org/docs/1.7.1/cuda.html?highlight=torch%20cuda%20manual#torch.cuda.manual_seed_all)\n",
    "\n",
    "- 대표적으로는 `torch.cuda.manual_seed(seed)` (current GPU) 또는 `torch.cuda.manual_seed_all(seed)` (all GPUs)를 많이 사용한다고 함"
   ]
  }
 ],
 "metadata": {
  "kernelspec": {
   "display_name": "Python 3.7.13 ('torch1.7.1')",
   "language": "python",
   "name": "python3"
  },
  "language_info": {
   "codemirror_mode": {
    "name": "ipython",
    "version": 3
   },
   "file_extension": ".py",
   "mimetype": "text/x-python",
   "name": "python",
   "nbconvert_exporter": "python",
   "pygments_lexer": "ipython3",
   "version": "3.7.13"
  },
  "orig_nbformat": 4,
  "vscode": {
   "interpreter": {
    "hash": "b4a84903a2b3fdb7d367cfd9ea570be165ad361672f95a63c30b0740103c512e"
   }
  }
 },
 "nbformat": 4,
 "nbformat_minor": 2
}
