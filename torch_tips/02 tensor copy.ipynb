{
 "cells": [
  {
   "cell_type": "code",
   "execution_count": null,
   "metadata": {},
   "outputs": [],
   "source": []
  }
 ],
 "metadata": {
  "kernelspec": {
   "display_name": "Python 3.8.3 ('base')",
   "language": "python",
   "name": "python3"
  },
  "language_info": {
   "name": "python",
   "version": "3.8.3"
  },
  "orig_nbformat": 4,
  "vscode": {
   "interpreter": {
    "hash": "bf0eb061f6db49036dd9042a11eed065a84f4c36216f2f89e069dfd173229e78"
   }
  }
 },
 "nbformat": 4,
 "nbformat_minor": 2
}
