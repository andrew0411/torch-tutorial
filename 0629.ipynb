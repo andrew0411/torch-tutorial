{
 "cells": [
  {
   "cell_type": "markdown",
   "metadata": {},
   "source": [
    "## Pytorch\n",
    "- 페이스북이 초기 Lua 언어로 개발된 Torch를 파이썬 버전으로 개발하여 2017년도에 공개\n",
    "- 초기의 Torch는 Numpy 라이브러리처럼 과학 연산을 위한 라이브러리로 공개\n",
    "- 이후 GPU를 이용한 텐서 조작 및 동적 신경망 구축이 가능하도록 딥러닝 프레임워크로 발전시킴\n",
    "- 파이썬답게 만들어졌고, 유연하면서도 가속화된 계산 속도를 제공"
   ]
  },
  {
   "cell_type": "code",
   "execution_count": null,
   "metadata": {},
   "outputs": [],
   "source": []
  }
 ],
 "metadata": {
  "language_info": {
   "name": "python"
  },
  "orig_nbformat": 4
 },
 "nbformat": 4,
 "nbformat_minor": 2
}
